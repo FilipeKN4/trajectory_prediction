{
 "cells": [
  {
   "cell_type": "code",
   "execution_count": 1,
   "metadata": {},
   "outputs": [],
   "source": [
    "# bibliotecas matetmáticas\n",
    "import math\n",
    "import pandas as pd\n",
    "import numpy as np\n",
    "\n",
    "# bibliotecas para uso de redes neurais. Neste caso, do tipo LSTM\n",
    "from tensorflow.keras.models import Sequential\n",
    "from tensorflow.keras.layers import Dense\n",
    "from tensorflow.keras.layers import LSTM\n",
    "from tensorflow.keras.layers import Dropout\n",
    "from tensorflow.keras.callbacks import EarlyStopping, ReduceLROnPlateau, ModelCheckpoint\n",
    "\n",
    "# bibliotecas para o pré-processamento dos dados. Normalização, etc...\n",
    "from sklearn.preprocessing import MinMaxScaler, StandardScaler\n",
    "from sklearn.metrics import mean_squared_error\n",
    "from scipy.signal import savgol_filter\n",
    "import datetime\n",
    "from functools import reduce\n",
    "\n",
    "# bibliotecas para representação dos dados em gráficos\n",
    "import plotly.offline as py\n",
    "import plotly.graph_objs as go\n",
    "import matplotlib.pyplot as plt\n",
    "\n",
    "# métodos para pré-processamento do DataFrame original\n",
    "import pre_processing as pp"
   ]
  },
  {
   "cell_type": "markdown",
   "metadata": {},
   "source": [
    "Leitura do dataset referente ao período de 8:05 até 8:20 da manhã do NGSIM us-101. São lidas as 100 mil primeiras linhas."
   ]
  },
  {
   "cell_type": "code",
   "execution_count": 2,
   "metadata": {},
   "outputs": [
    {
     "name": "stdout",
     "output_type": "stream",
     "text": [
      "CPU times: user 1.28 s, sys: 216 ms, total: 1.49 s\n",
      "Wall time: 1.49 s\n"
     ]
    }
   ],
   "source": [
    "%%time\n",
    "#Leitura dos 100 mil primeiros registros do conjunto de dados\n",
    "\n",
    "# df1 = pd.read_csv('us-101-vehicle-trajectory-data/vehicle-trajectory-data/0750am-0805am/trajectories-0750am-0805am.csv', nrows=100000)\n",
    "# df2 = pd.read_csv('us-101-vehicle-trajectory-data/vehicle-trajectory-data/0805am-0820am/trajectories-0805am-0820am.csv', nrows=100000)\n",
    "#df1 = pd.read_csv('us-101-vehicle-trajectory-data/vehicle-trajectory-data/0750am-0805am/trajectories-0750am-0805am.csv')\n",
    "df = pd.read_csv('us-101-vehicle-trajectory-data/vehicle-trajectory-data/0805am-0820am/trajectories-0805am-0820am.csv')\n",
    "#df = pd.read_csv('us-101-vehicle-trajectory-data/vehicle-trajectory-data/0820am-0835am/trajectories-0820am-0835am.csv')\n",
    "\n",
    "# df = pd.concat([df1, df2, df3])\n",
    "# df = df.reset_index(drop=True)"
   ]
  },
  {
   "cell_type": "markdown",
   "metadata": {},
   "source": [
    "Conversão das posições lateral (Local_X) e longitudinal (Local_Y) dos veículos do dataframe de pés para metros e adição dos valores nas colunas Local_X_meters e Local_Y_meters."
   ]
  },
  {
   "cell_type": "code",
   "execution_count": 3,
   "metadata": {},
   "outputs": [],
   "source": [
    "df = pp.add_positions_in_meters(df)"
   ]
  },
  {
   "cell_type": "markdown",
   "metadata": {},
   "source": [
    "Todas as colunas do NGSIM us-101:"
   ]
  },
  {
   "cell_type": "code",
   "execution_count": null,
   "metadata": {},
   "outputs": [],
   "source": [
    "df.columns"
   ]
  },
  {
   "cell_type": "markdown",
   "metadata": {},
   "source": [
    "# Gerando DataFrame com as Informações do Veículo de Interesse\n",
    "\n",
    "Foram criados os métodos __get_target_dataframe()__ para gerar um _DataFrame_ com todas as linhas do veículo alvo e __get_preceeding_or_following_dataframe()__ para gerar um _DataFrame_ dos veículos à frente ou atrás dos veículos de um outro _DataFrame_.\n",
    "\n",
    "Os parâmentros para _get_target_dataframe()_ são:\n",
    "* __full_df__: _DataFrame_ que contém todos os dados completos\n",
    "* __vehicle_id__: ID do veículo principal que o _DataFrame_ gerado se refere\n",
    "\n",
    "Os parâmentros para _get_preceeding_or_following_dataframe()_ são:\n",
    "* __full_df__: _DataFrame_ que contém todos os dados completos\n",
    "* __target_df__: _DataFrame_ com as informações do veículo alvo para comparar os frames desejados\n",
    "* __position__: Posição do veículo alvo em relação ao veículo comparado. Pode ser _following_ (atrás do veículo comparado) ou _preceeding_ (à frente do veículo comparado)"
   ]
  },
  {
   "cell_type": "markdown",
   "metadata": {},
   "source": [
    "Além disso, foi criado o método __application_of_savgol_filter_and_return_dataframe()__ para aplicação do filtro Savitzky-Golay nas colunas Local_X_meters e Local_Y_meters.\n",
    "\n",
    "Os parâmentros para _application_of_savgol_filter_and_return_dataframe()_ são:\n",
    "* __actual_df__: dataframe com as informações do veículo que passarão pelo filtro."
   ]
  },
  {
   "cell_type": "markdown",
   "metadata": {},
   "source": [
    "Para que os dados possam ser utilizados deve ser gerado um novo _DataFrame_ contendo as informações do __veículo alvo e dos 9 veículos ao redor mais próximos__, assim como na imagem abaixo:\n",
    "\n",
    "![target and surrounding vehicles](./article_images/target_and_surrounding_vehicles.png\n",
    ")\n",
    "\n",
    "Para obter os dados de cada veículo serão gerados _DataFrames_ correspondentes da seguinte forma:\n",
    "\n",
    "* targ -> target_df\n",
    "* b -> behind_df\n",
    "* f -> front_df\n",
    "* ff -> front_front_df\n",
    "* l -> left_df\n",
    "* bl -> behind_left_df\n",
    "* fl -> front_left_df\n",
    "* r -> right_df\n",
    "* br -> behind_right_df\n",
    "* fr -> front_right_df"
   ]
  },
  {
   "cell_type": "code",
   "execution_count": 6,
   "metadata": {},
   "outputs": [],
   "source": [
    "#target_df = pp.get_target_dataframe(df, 16)\n",
    "#target_df = pp.get_target_dataframe(df, 1914)\n",
    "#target_df = pp.get_target_dataframe(df, 1909)\n",
    "target_df = pp.get_target_dataframe(df, 20)"
   ]
  },
  {
   "cell_type": "code",
   "execution_count": 8,
   "metadata": {},
   "outputs": [
    {
     "data": {
      "text/plain": [
       "False"
      ]
     },
     "execution_count": 8,
     "metadata": {},
     "output_type": "execute_result"
    }
   ],
   "source": [
    "target_df.empty"
   ]
  },
  {
   "cell_type": "code",
   "execution_count": null,
   "metadata": {
    "scrolled": true
   },
   "outputs": [],
   "source": [
    "target_df = pp.application_of_savgol_filter_and_return_dataframe(target_df)"
   ]
  },
  {
   "cell_type": "code",
   "execution_count": null,
   "metadata": {},
   "outputs": [],
   "source": [
    "target_df"
   ]
  },
  {
   "cell_type": "code",
   "execution_count": null,
   "metadata": {},
   "outputs": [],
   "source": [
    "test_df = target_df.loc[target_df['Preceeding'] != 0]\n",
    "len(test_df)"
   ]
  },
  {
   "cell_type": "code",
   "execution_count": null,
   "metadata": {},
   "outputs": [],
   "source": [
    "test_df = target_df.loc[target_df['Following'] != 0]\n",
    "len(test_df)"
   ]
  },
  {
   "cell_type": "markdown",
   "metadata": {},
   "source": [
    "Gráfico da __trajetória do veículo 20__, onde:\n",
    "- __Posição Lateral__: corresponde à coluna _Local_X_meters_ que é a distância do veículo em relação á borda mais a esquerda da pista;\n",
    "- __Posição Longitudinal__: corresponde à coluna _Local_Y_meters_ que é a distância percorrida pelo veículo na pista."
   ]
  },
  {
   "cell_type": "code",
   "execution_count": null,
   "metadata": {},
   "outputs": [],
   "source": [
    "plt.figure(figsize=(15, 10))\n",
    "line_red, = plt.plot(target_df['Local_Y_meters'], target_df['Local_X_meters'], color='red', label='Veículo alvo')\n",
    "plt.title('Trajetória do Veículo de ID {}'.format(target_df['Vehicle_ID'][0]))\n",
    "plt.ylabel('Posição Lateral (m)')\n",
    "plt.xlabel('Posição Longitudinal (m)')\n",
    "#plt.xticks(target_df['Local_Y_meters'])\n",
    "plt.ylim(20, 0)\n",
    "plt.legend(handles=[line_red,])"
   ]
  },
  {
   "cell_type": "markdown",
   "metadata": {},
   "source": [
    "Gráfico comparativo entre a posição lateral real e a posição lateral após a aplicação do filtro no veículo alvo."
   ]
  },
  {
   "cell_type": "code",
   "execution_count": null,
   "metadata": {},
   "outputs": [],
   "source": [
    "plt.figure(figsize=(15, 10))\n",
    "line_red, = plt.plot(target_df['Local_X_meters'], color='red', label='Posição Lateral Real')\n",
    "line_blue, = plt.plot(target_df['Local_X_filtered'], color='blue', label='Posição Lateral Suavizada')\n",
    "plt.title('Posição Lateral  x Smoothed Lateral Position')\n",
    "plt.xlabel('Quantidade de Frames')\n",
    "plt.ylabel('Posição Lateral (m)')\n",
    "plt.ylim(15, 10)\n",
    "plt.legend(handles=[line_red, line_blue])"
   ]
  },
  {
   "cell_type": "markdown",
   "metadata": {},
   "source": [
    "Gerando um _DataFrame_ do veículo atrás (behind_df) do veículo alvo."
   ]
  },
  {
   "cell_type": "code",
   "execution_count": null,
   "metadata": {},
   "outputs": [],
   "source": [
    "%%time\n",
    "behind_df = pp.get_preceeding_or_following_dataframe(df, target_df)\n",
    "behind_df = pp.application_of_savgol_filter_and_return_dataframe(behind_df)"
   ]
  },
  {
   "cell_type": "code",
   "execution_count": null,
   "metadata": {},
   "outputs": [],
   "source": [
    "behind_df"
   ]
  },
  {
   "cell_type": "markdown",
   "metadata": {},
   "source": [
    "Gerando um _DataFrame_ do veículo à frente (front_df) do veículo alvo."
   ]
  },
  {
   "cell_type": "code",
   "execution_count": null,
   "metadata": {},
   "outputs": [],
   "source": [
    "front_df = pp.get_preceeding_or_following_dataframe(df, target_df, \"following\")\n",
    "front_df = pp.application_of_savgol_filter_and_return_dataframe(front_df)"
   ]
  },
  {
   "cell_type": "code",
   "execution_count": null,
   "metadata": {},
   "outputs": [],
   "source": [
    "front_df"
   ]
  },
  {
   "cell_type": "code",
   "execution_count": null,
   "metadata": {},
   "outputs": [],
   "source": [
    "test_df = front_df.loc[front_df['Preceeding'] != 0]\n",
    "len(test_df)"
   ]
  },
  {
   "cell_type": "markdown",
   "metadata": {},
   "source": [
    "Gerando um _DataFrame_ do veículo à frente do veículo à frente (front_front_df) do alvo."
   ]
  },
  {
   "cell_type": "code",
   "execution_count": null,
   "metadata": {},
   "outputs": [],
   "source": [
    "front_front_df = pp.get_preceeding_or_following_dataframe(df, front_df, \"following\", True)\n",
    "front_front_df = pp.application_of_savgol_filter_and_return_dataframe(front_front_df)"
   ]
  },
  {
   "cell_type": "code",
   "execution_count": null,
   "metadata": {},
   "outputs": [],
   "source": [
    "front_front_df"
   ]
  },
  {
   "cell_type": "markdown",
   "metadata": {},
   "source": [
    "Foi criado o método __get_left_or_right_vehicle_dataframe()__ para gerar um _DataFrame_ com todas as linhas dos veículos à esquerda ou à direita do veículo alvo.\n",
    "\n",
    "Os parâmentros para _get_left_or_right_vehicle_dataframe()_ são:\n",
    "* __full_df__: _DataFrame_ que contém todas os dados completos\n",
    "* __target_df__: _DataFrame_ que contém as informações do veículo alvo\n",
    "* __side__: qual o lado que os veículos buscados estará em relação ao alvo. Pode ser _Left_ ou _Right_."
   ]
  },
  {
   "cell_type": "markdown",
   "metadata": {},
   "source": [
    "Gerando um _DataFrame_ do veículo à esquerda (left_df) do veículo alvo."
   ]
  },
  {
   "cell_type": "code",
   "execution_count": null,
   "metadata": {
    "scrolled": false
   },
   "outputs": [],
   "source": [
    "%%time\n",
    "left_df = pp.get_left_or_right_vehicle_dataframe(df, target_df)\n",
    "left_df = pp.application_of_savgol_filter_and_return_dataframe(left_df)"
   ]
  },
  {
   "cell_type": "code",
   "execution_count": null,
   "metadata": {
    "scrolled": true
   },
   "outputs": [],
   "source": [
    "left_df"
   ]
  },
  {
   "cell_type": "code",
   "execution_count": null,
   "metadata": {
    "scrolled": true
   },
   "outputs": [],
   "source": [
    "left_df.shape\n",
    "# (linhas, colunas)"
   ]
  },
  {
   "cell_type": "code",
   "execution_count": null,
   "metadata": {},
   "outputs": [],
   "source": [
    "plt.figure(figsize=(15, 10))\n",
    "line_red, = plt.plot(target_df['Local_Y_meters'], target_df['Local_X_meters'], color='red', label='Veículo alvo')\n",
    "line_blue, = plt.plot(left_df['Local_Y_meters'], left_df['Local_X_meters'], color='blue', label='Veículo à esquerda')\n",
    "plt.title('Trajetória do Alvo de ID {} e dos Veículos à esquerda'.format(target_df['Vehicle_ID'][0]))\n",
    "plt.ylabel('Posição Lateral (m)')\n",
    "plt.xlabel('Posição Longitudinal (m)')\n",
    "#plt.xticks(target_df['Local_Y_meters'])\n",
    "plt.ylim(20, 0)\n",
    "plt.legend(handles=[line_red,line_blue])"
   ]
  },
  {
   "cell_type": "markdown",
   "metadata": {},
   "source": [
    "Gerando um _DataFrame_ do veículo atrás do veículo à esquerda (behind_left_df) do alvo."
   ]
  },
  {
   "cell_type": "code",
   "execution_count": null,
   "metadata": {},
   "outputs": [],
   "source": [
    "behind_left_df = pp.get_preceeding_or_following_dataframe(df, left_df, beside=True)\n",
    "behind_left_df = pp.application_of_savgol_filter_and_return_dataframe(behind_left_df)"
   ]
  },
  {
   "cell_type": "code",
   "execution_count": null,
   "metadata": {
    "scrolled": true
   },
   "outputs": [],
   "source": [
    "behind_left_df"
   ]
  },
  {
   "cell_type": "code",
   "execution_count": null,
   "metadata": {},
   "outputs": [],
   "source": [
    "behind_left_df.shape"
   ]
  },
  {
   "cell_type": "markdown",
   "metadata": {},
   "source": [
    "Gerando um _DataFrame_ do veículo à frente do veículo à esquerda (front_left_df) do alvo."
   ]
  },
  {
   "cell_type": "code",
   "execution_count": null,
   "metadata": {},
   "outputs": [],
   "source": [
    "front_left_df = pp.get_preceeding_or_following_dataframe(df, left_df, \"following\", True)\n",
    "front_left_df = pp.application_of_savgol_filter_and_return_dataframe(front_left_df)"
   ]
  },
  {
   "cell_type": "code",
   "execution_count": null,
   "metadata": {
    "scrolled": true
   },
   "outputs": [],
   "source": [
    "front_left_df"
   ]
  },
  {
   "cell_type": "code",
   "execution_count": null,
   "metadata": {},
   "outputs": [],
   "source": [
    "front_left_df.shape"
   ]
  },
  {
   "cell_type": "markdown",
   "metadata": {},
   "source": [
    "Gerando um _DataFrame_ do veículo à direita (right_df) do veículo alvo."
   ]
  },
  {
   "cell_type": "code",
   "execution_count": null,
   "metadata": {},
   "outputs": [],
   "source": [
    "%%time\n",
    "right_df = pp.get_left_or_right_vehicle_dataframe(df, target_df, 'right')\n",
    "right_df = pp.application_of_savgol_filter_and_return_dataframe(right_df)"
   ]
  },
  {
   "cell_type": "code",
   "execution_count": null,
   "metadata": {
    "scrolled": true
   },
   "outputs": [],
   "source": [
    "right_df"
   ]
  },
  {
   "cell_type": "code",
   "execution_count": null,
   "metadata": {},
   "outputs": [],
   "source": [
    "right_df.shape"
   ]
  },
  {
   "cell_type": "code",
   "execution_count": null,
   "metadata": {},
   "outputs": [],
   "source": [
    "plt.figure(figsize=(15, 10))\n",
    "right_df_local_x = right_df['Local_X_meters'][2:]\n",
    "right_df_local_y = right_df['Local_Y_meters'][2:]\n",
    "line_red, = plt.plot(target_df['Local_Y_meters'], target_df['Local_X_meters'], color='red', label='Veículo alvo')\n",
    "line_blue, = plt.plot(right_df_local_y, right_df_local_x, color='blue', label='Veículo à direita')\n",
    "plt.title('Trajetória do Alvo de ID {} e dos Veículos à Direita'.format(target_df['Vehicle_ID'][0]))\n",
    "plt.ylabel('Posição Lateral (m)')\n",
    "plt.xlabel('Posição Longitudinal (m)')\n",
    "#plt.xticks(target_df['Local_Y_meters'])\n",
    "plt.ylim(20, 0)\n",
    "plt.legend(handles=[line_red, line_blue])"
   ]
  },
  {
   "cell_type": "markdown",
   "metadata": {},
   "source": [
    "Gerando um _DataFrame_ do veículo atrás do veículo à direita (behind_left_df) do alvo."
   ]
  },
  {
   "cell_type": "code",
   "execution_count": null,
   "metadata": {},
   "outputs": [],
   "source": [
    "behind_right_df = pp.get_preceeding_or_following_dataframe(df, right_df, beside=True)\n",
    "behind_right_df = pp.application_of_savgol_filter_and_return_dataframe(behind_right_df)"
   ]
  },
  {
   "cell_type": "code",
   "execution_count": null,
   "metadata": {
    "scrolled": true
   },
   "outputs": [],
   "source": [
    "behind_right_df"
   ]
  },
  {
   "cell_type": "markdown",
   "metadata": {},
   "source": [
    "Gerando um _DataFrame_ do veículo à frente do veículo à direita (front_right_df) do alvo."
   ]
  },
  {
   "cell_type": "code",
   "execution_count": null,
   "metadata": {},
   "outputs": [],
   "source": [
    "front_right_df = pp.get_preceeding_or_following_dataframe(df, right_df, \"following\", True)\n",
    "front_right_df = pp.application_of_savgol_filter_and_return_dataframe(front_right_df)"
   ]
  },
  {
   "cell_type": "code",
   "execution_count": null,
   "metadata": {
    "scrolled": true
   },
   "outputs": [],
   "source": [
    "front_right_df"
   ]
  },
  {
   "cell_type": "markdown",
   "metadata": {},
   "source": [
    "Adição de sufixos às colunas dos _DataFrames_ gerados para indentificação após o _merge_. Os sufixos são:\n",
    "* __target_df:__ targ\n",
    "* __behind_df:__ b\n",
    "* __front_df:__ f\n",
    "* __front_front_df:__ ff\n",
    "* __left_df:__ l\n",
    "* __behind_left_df:__ bl\n",
    "* __front_left_df:__ fl\n",
    "* __right_df:__ r\n",
    "* __behind_right_df:__ br\n",
    "* __front_right_df:__ fr"
   ]
  },
  {
   "cell_type": "code",
   "execution_count": null,
   "metadata": {},
   "outputs": [],
   "source": [
    "s_target_df = target_df.copy()\n",
    "s_behind_df = behind_df.copy()\n",
    "s_front_df = front_df.copy()\n",
    "s_front_front_df = front_front_df.copy()\n",
    "s_left_df = left_df.copy()\n",
    "s_behind_left_df = behind_left_df.copy()\n",
    "s_front_left_df = front_left_df.copy()\n",
    "s_right_df = right_df.copy()\n",
    "s_behind_right_df= behind_right_df.copy()\n",
    "s_front_right_df = front_right_df.copy()"
   ]
  },
  {
   "cell_type": "code",
   "execution_count": null,
   "metadata": {},
   "outputs": [],
   "source": [
    "# def get_final_target_dataframe(target_df, start_index):\n",
    "#     new_df = pd.DataFrame(columns=['Vehicle_ID', \n",
    "#                                    'Frame_ID',\n",
    "#                                    'Global_Time',\n",
    "#                                    'Local_X',\n",
    "#                                    'Local_Y',\n",
    "#                                    'Local_X_meters',\n",
    "#                                    'Local_Y_meters',\n",
    "#                                    'Local_X_Vel',\n",
    "#                                    'Local_Y_Vel',\n",
    "#                                    'v_Class'])\n",
    "    \n",
    "#     for row in target_df.itertuples():\n",
    "#         if row.Index > start_index:\n",
    "#             time = (row.Global_Time - target_df['Global_Time'][row.Index-1]) / 1000\n",
    "#             local_x_vel = (row.Local_X_meters - target_df['Local_X_meters'][row.Index-1]) / time\n",
    "#             local_y_vel = (row.Local_Y_meters - target_df['Local_Y_meters'][row.Index-1]) / time\n",
    "#             new_df = new_df.append({'Vehicle_ID': row.Vehicle_ID,\n",
    "#                                        'Frame_ID': row.Frame_ID,\n",
    "#                                        'Global_Time': row.Global_Time,\n",
    "#                                        'Local_X': row.Local_X,\n",
    "#                                        'Local_Y': row.Local_Y,\n",
    "#                                        'Local_X_meters': row.Local_X_meters,\n",
    "#                                        'Local_Y_meters': row.Local_Y_meters,\n",
    "#                                        'Local_X_Vel': local_x_vel,\n",
    "#                                        'Local_Y_Vel': local_y_vel,\n",
    "#                                        'v_Class': row.v_Class}, ignore_index=True)\n",
    "        \n",
    "#     new_df = new_df.astype({'Vehicle_ID': 'int', \n",
    "#                             'Frame_ID': 'int',\n",
    "#                             'Global_Time': 'int',\n",
    "#                             'v_Class': 'int'})\n",
    "        \n",
    "#     return new_df\n",
    "\n",
    "# Criação de Dataset com as informações finais do veículo alvo\n",
    "def get_final_target_dataframe(target_df):\n",
    "    # new_df = pd.DataFrame(columns=['Vehicle_ID', \n",
    "    #                                'Frame_ID',\n",
    "    #                                'Global_Time',\n",
    "    #                                'Local_X',\n",
    "    #                                'Local_Y',\n",
    "    #                                'Local_X_meters',\n",
    "    #                                'Local_Y_meters',\n",
    "    #                                'Local_X_Vel',\n",
    "    #                                'Local_Y_Vel',\n",
    "    #                                'v_Class'])\n",
    "\n",
    "    local_x_vel_list = []\n",
    "    local_y_vel_list = []\n",
    "    have_velocities = []\n",
    "    start_index = target_df.index.start\n",
    "    for row in target_df.itertuples():\n",
    "        if row.Index > start_index and row.Vehicle_ID == target_df['Vehicle_ID'][row.Index-1]:\n",
    "            time = (row.Global_Time - target_df['Global_Time'][row.Index-1]) / 1000\n",
    "            local_x_vel = (row.Local_X_meters - target_df['Local_X_meters'][row.Index-1]) / time\n",
    "            local_y_vel = (row.Local_Y_meters - target_df['Local_Y_meters'][row.Index-1]) / time\n",
    "            local_x_vel_list.append(local_x_vel)\n",
    "            local_y_vel_list.append(local_y_vel)\n",
    "            have_velocities.append(True)\n",
    "        else:\n",
    "            local_x_vel_list.append(0)\n",
    "            local_y_vel_list.append(0)\n",
    "            have_velocities.append(False)\n",
    "            \n",
    "            \n",
    "    target_df['Local_X_Vel'] = pd.Series(local_x_vel_list, index=target_df.index)\n",
    "    target_df['Local_Y_Vel'] = pd.Series(local_y_vel_list, index=target_df.index)\n",
    "    target_df['Have_Velocities'] = pd.Series(have_velocities, index=target_df.index)\n",
    "    target_df = target_df.loc[target_df['Have_Velocities'] != False]\n",
    "    target_df = target_df.reset_index(drop=True)\n",
    "    \n",
    "    new_df = target_df[[\n",
    "                        'Target_ID',\n",
    "                       'Frame_ID', \n",
    "                    #    'Global_Time', \n",
    "                       'Local_X_meters',\n",
    "                       'Local_Y_meters',\n",
    "                       'v_Class',\n",
    "                       'Local_X_Vel',\n",
    "                       'Local_Y_Vel']]\n",
    "    \n",
    "    # new_df = new_df.astype({'Vehicle_ID': 'int', \n",
    "    #                         'Frame_ID': 'int',\n",
    "    #                         'Global_Time': 'int',\n",
    "    #                         'v_Class': 'int'})\n",
    "        \n",
    "    return new_df"
   ]
  },
  {
   "cell_type": "code",
   "execution_count": null,
   "metadata": {},
   "outputs": [],
   "source": [
    "s_target_df = get_final_target_dataframe(s_target_df)"
   ]
  },
  {
   "cell_type": "code",
   "execution_count": null,
   "metadata": {},
   "outputs": [],
   "source": [
    "s_target_df"
   ]
  },
  {
   "cell_type": "code",
   "execution_count": null,
   "metadata": {},
   "outputs": [],
   "source": [
    "# def get_final_surround_dataframe(surround_df, target_df):\n",
    "#     new_df = pd.DataFrame(columns=['Frame_ID',\n",
    "#                                    'Local_X_Vel',\n",
    "#                                    'Relative_Y_Vel',\n",
    "#                                    'Relative_Targ_X',\n",
    "#                                    'Relative_Targ_Y', \n",
    "#                                    'Time_To_Collision',\n",
    "#                                    'v_Class'])\n",
    "    \n",
    "#     if surround_df.empty:\n",
    "#         return new_df\n",
    "    \n",
    "#     start_index = surround_df.index.start\n",
    "    \n",
    "#     for row in surround_df.itertuples():\n",
    "#         if row.Index > start_index:\n",
    "#             time = (row.Global_Time - surround_df['Global_Time'][row.Index-1]) / 1000\n",
    "#             local_x_vel = (row.Local_X_meters - surround_df['Local_X_meters'][row.Index-1]) / time\n",
    "#             local_y_vel = (row.Local_Y_meters - surround_df['Local_Y_meters'][row.Index-1]) / time\n",
    "            \n",
    "#             for line in target_df.itertuples():\n",
    "#                 if row.Frame_ID == line.Frame_ID:\n",
    "#                     relative_y_vel = line.Local_Y_Vel - local_y_vel\n",
    "#                     local_x_targ = row.Local_X_meters - line.Local_X_meters\n",
    "#                     local_y_targ = row.Local_Y_meters - line.Local_Y_meters\n",
    "#                     ttc = local_y_targ / relative_y_vel\n",
    "            \n",
    "#                     new_df = new_df.append({'Frame_ID': row.Frame_ID,\n",
    "#                                             'Local_X_Vel': local_x_vel,\n",
    "#                                             'Relative_Y_Vel': relative_y_vel, \n",
    "#                                             'Relative_Targ_X': local_x_targ, \n",
    "#                                             'Relative_Targ_Y': local_y_targ,\n",
    "#                                             'Time_To_Collision': ttc,\n",
    "#                                             'v_Class': row.v_Class}, ignore_index=True)\n",
    "#                     break\n",
    "        \n",
    "#     new_df = new_df.astype({'Frame_ID': 'int',\n",
    "#                             'v_Class': 'int'})\n",
    "        \n",
    "#     return new_df\n",
    "\n",
    "# Criação de Dataset com as informações finais dos veículos ao redor do alvo\n",
    "def get_final_surround_dataframe(surround_df, target_df):\n",
    "    new_df = pd.DataFrame(columns=['Frame_ID',\n",
    "                                   'Local_X_Vel',\n",
    "                                   'Relative_Y_Vel',\n",
    "                                   'Relative_Targ_X',\n",
    "                                   'Relative_Targ_Y', \n",
    "                                   'Time_To_Collision',\n",
    "                                   'v_Class'])\n",
    "    \n",
    "    if surround_df.empty:\n",
    "        return new_df\n",
    "    \n",
    "    local_x_vel_list = []\n",
    "    relative_y_vel_list = []\n",
    "    relative_local_x_targ_list = []\n",
    "    relative_local_y_targ_list = []\n",
    "    ttc_list = []\n",
    "    have_velocities = []\n",
    "    \n",
    "    start_index = surround_df.index.start\n",
    "    for row in surround_df.itertuples():\n",
    "        if row.Index > start_index and row.Vehicle_ID == surround_df['Vehicle_ID'][row.Index-1]:\n",
    "            time = (row.Global_Time - surround_df['Global_Time'][row.Index-1]) / 1000\n",
    "            local_x_vel = (row.Local_X_meters - surround_df['Local_X_meters'][row.Index-1]) / time\n",
    "            local_y_vel = (row.Local_Y_meters - surround_df['Local_Y_meters'][row.Index-1]) / time\n",
    "\n",
    "            local_x_vel_list.append(local_x_vel)\n",
    "            have_velocities.append(True)\n",
    "            for line in target_df.itertuples():\n",
    "                if row.Frame_ID == line.Frame_ID and row.Target_ID == line.Target_ID:\n",
    "                    relative_y_vel = line.Local_Y_Vel - local_y_vel\n",
    "                    local_x_targ = row.Local_X_meters - line.Local_X_meters\n",
    "                    local_y_targ = row.Local_Y_meters - line.Local_Y_meters\n",
    "                    ttc = local_y_targ / relative_y_vel\n",
    "\n",
    "                    relative_y_vel_list.append(relative_y_vel)\n",
    "                    relative_local_x_targ_list.append(local_x_targ)\n",
    "                    relative_local_y_targ_list.append(local_y_targ)\n",
    "                    ttc_list.append(ttc)\n",
    "            \n",
    "                    # new_df = new_df.append({'Frame_ID': row.Frame_ID,\n",
    "                    #                         'Local_X_Vel': local_x_vel,\n",
    "                    #                         'Relative_Y_Vel': relative_y_vel, \n",
    "                    #                         'Relative_Targ_X': local_x_targ, \n",
    "                    #                         'Relative_Targ_Y': local_y_targ,\n",
    "                    #                         'Time_To_Collision': ttc,\n",
    "                    #                         'v_Class': row.v_Class}, ignore_index=True)\n",
    "                    break\n",
    "        else:\n",
    "            local_x_vel_list.append(0)\n",
    "            relative_y_vel_list.append(0)\n",
    "            relative_local_x_targ_list.append(0)\n",
    "            relative_local_y_targ_list.append(0)\n",
    "            ttc_list.append(0)\n",
    "            have_velocities.append(False)\n",
    "        \n",
    "    surround_df['Local_X_Vel'] = pd.Series(local_x_vel_list, index=surround_df.index)\n",
    "    surround_df['Relative_Y_Vel'] = pd.Series(relative_y_vel_list, index=surround_df.index)\n",
    "    surround_df['Relative_Targ_X'] = pd.Series(relative_local_x_targ_list, index=surround_df.index)\n",
    "    surround_df['Relative_Targ_Y'] = pd.Series(relative_local_y_targ_list, index=surround_df.index)\n",
    "    surround_df['Time_To_Collision'] = pd.Series(ttc_list, index=surround_df.index)\n",
    "    surround_df['Have_Velocities'] = pd.Series(have_velocities, index=surround_df.index)\n",
    "    surround_df = surround_df.loc[surround_df['Have_Velocities'] != False]\n",
    "    surround_df = surround_df.reset_index(drop=True)    \n",
    "    new_df = surround_df[['Vehicle_ID',\n",
    "                           'Target_ID',\n",
    "                           'Frame_ID',\n",
    "                           'Local_X_Vel',\n",
    "                           'Relative_Y_Vel',\n",
    "                           'Relative_Targ_X',\n",
    "                           'Relative_Targ_Y', \n",
    "                           'Time_To_Collision',\n",
    "                           'v_Class']]\n",
    "    \n",
    "#     new_df = surround_df[df_list]\n",
    "\n",
    "    # new_df = new_df.astype({'Frame_ID': 'int',\n",
    "    #                         'v_Class': 'int'})\n",
    "        \n",
    "    return new_df"
   ]
  },
  {
   "cell_type": "code",
   "execution_count": null,
   "metadata": {},
   "outputs": [],
   "source": [
    "s_behind_df = get_final_surround_dataframe(s_behind_df, s_target_df)"
   ]
  },
  {
   "cell_type": "code",
   "execution_count": null,
   "metadata": {},
   "outputs": [],
   "source": [
    "s_behind_df"
   ]
  },
  {
   "cell_type": "code",
   "execution_count": null,
   "metadata": {},
   "outputs": [],
   "source": [
    "s_front_front_df"
   ]
  },
  {
   "cell_type": "code",
   "execution_count": null,
   "metadata": {},
   "outputs": [],
   "source": [
    "s_front_df = get_final_surround_dataframe(s_front_df, s_target_df)\n",
    "s_front_front_df = get_final_surround_dataframe(s_front_front_df, s_target_df)\n",
    "s_left_df = get_final_surround_dataframe(s_left_df, s_target_df)\n",
    "s_behind_left_df = get_final_surround_dataframe(s_behind_left_df, s_target_df)\n",
    "s_front_left_df = get_final_surround_dataframe(s_front_left_df, s_target_df)\n",
    "s_right_df = get_final_surround_dataframe(s_right_df, s_target_df)\n",
    "s_behind_right_df = get_final_surround_dataframe(s_behind_right_df, s_target_df)\n",
    "s_front_right_df = get_final_surround_dataframe(s_front_right_df, s_target_df)"
   ]
  },
  {
   "cell_type": "code",
   "execution_count": null,
   "metadata": {},
   "outputs": [],
   "source": [
    "s_target_df.columns = s_target_df.columns.map(lambda x: str(x) + '_targ' if str(x) != 'Frame_ID' and str(x) != 'Target_ID' else str(x))\n",
    "s_behind_df.columns = s_behind_df.columns.map(lambda x: str(x) + '_b' if str(x) != 'Frame_ID' and str(x) != 'Target_ID' else str(x))\n",
    "s_front_df.columns = s_front_df.columns.map(lambda x: str(x) + '_f' if str(x) != 'Frame_ID' and str(x) != 'Target_ID' else str(x))\n",
    "s_front_front_df.columns = s_front_front_df.columns.map(lambda x: str(x) + '_ff' if str(x) != 'Frame_ID' and str(x) != 'Target_ID' else str(x))\n",
    "s_left_df.columns = s_left_df.columns.map(lambda x: str(x) + '_l' if str(x) != 'Frame_ID' and str(x) != 'Target_ID' else str(x))\n",
    "s_behind_left_df.columns = s_behind_left_df.columns.map(lambda x: str(x) + '_bl' if str(x) != 'Frame_ID' and str(x) != 'Target_ID' else str(x))\n",
    "s_front_left_df.columns = s_front_left_df.columns.map(lambda x: str(x) + '_fl' if str(x) != 'Frame_ID' and str(x) != 'Target_ID' else str(x))\n",
    "s_right_df.columns = s_right_df.columns.map(lambda x: str(x) + '_r' if str(x) != 'Frame_ID' and str(x) != 'Target_ID' else str(x))\n",
    "s_behind_right_df.columns = s_behind_right_df.columns.map(lambda x: str(x) + '_br' if str(x) != 'Frame_ID' and str(x) != 'Target_ID' else str(x))\n",
    "s_front_right_df.columns = s_front_right_df.columns.map(lambda x: str(x) + '_fr' if str(x) != 'Frame_ID' and str(x) != 'Target_ID' else str(x))"
   ]
  },
  {
   "cell_type": "code",
   "execution_count": null,
   "metadata": {},
   "outputs": [],
   "source": [
    "dfs = [s_target_df, \n",
    "       s_behind_df, \n",
    "       s_front_df, \n",
    "       s_front_front_df, \n",
    "       s_left_df, \n",
    "       s_behind_left_df, \n",
    "       s_front_left_df, \n",
    "       s_right_df, \n",
    "       s_behind_right_df, \n",
    "       s_front_right_df]\n",
    "final_df = reduce(lambda  left,right: pd.merge(left,right,on=['Frame_ID'],\n",
    "                                               suffixes=(False, False),\n",
    "                                               how='outer'), dfs).fillna(0)\n",
    "final_df.head()"
   ]
  },
  {
   "cell_type": "code",
   "execution_count": null,
   "metadata": {
    "scrolled": true
   },
   "outputs": [],
   "source": [
    "final_df.tail()"
   ]
  },
  {
   "cell_type": "code",
   "execution_count": null,
   "metadata": {},
   "outputs": [],
   "source": [
    "# def get_all_targets_df(df):\n",
    "#     target_df = pd.DataFrame()\n",
    "    \n",
    "#     ids_list = df.Vehicle_ID.unique()\n",
    "#     ids_list = ids_list[:200]\n",
    "    \n",
    "#     for vehicle_id in ids_list:\n",
    "#         aux_df = pp.get_target_dataframe(df, vehicle_id)\n",
    "#         target_df = target_df.append(aux_df)\n",
    "        \n",
    "#     target_df = target_df.dropna()\n",
    "    \n",
    "#     return target_df\n",
    "\n",
    "# def get_complete_df(df, target_id):\n",
    "    \n",
    "#     target_df = pp.get_target_dataframe(df, target_id)\n",
    "#     target_df = pp.application_of_savgol_filter_and_return_dataframe(target_df)\n",
    "#     behind_df = pp.get_preceeding_or_following_dataframe(df, target_df)\n",
    "#     behind_df = pp.application_of_savgol_filter_and_return_dataframe(behind_df)\n",
    "#     front_df = pp.get_preceeding_or_following_dataframe(df, target_df, 'following')\n",
    "#     front_df = pp.application_of_savgol_filter_and_return_dataframe(front_df)\n",
    "#     front_front_df = pp.get_preceeding_or_following_dataframe(df, front_df, 'following')\n",
    "#     front_front_df = pp.application_of_savgol_filter_and_return_dataframe(front_front_df)\n",
    "#     left_df = pp.get_left_or_right_vehicle_dataframe(df, target_df)\n",
    "#     left_df = pp.application_of_savgol_filter_and_return_dataframe(left_df)\n",
    "#     behind_left_df = pp.get_preceeding_or_following_dataframe(df, left_df)\n",
    "#     behind_left_df = pp.application_of_savgol_filter_and_return_dataframe(behind_left_df)\n",
    "#     front_left_df = pp.get_preceeding_or_following_dataframe(df, left_df, 'following')\n",
    "#     front_left_df = pp.application_of_savgol_filter_and_return_dataframe(front_left_df)\n",
    "#     right_df = pp.get_left_or_right_vehicle_dataframe(df, target_df, 'right')\n",
    "#     right_df = pp.application_of_savgol_filter_and_return_dataframe(right_df)\n",
    "#     behind_right_df = pp.get_preceeding_or_following_dataframe(df, right_df)\n",
    "#     behind_right_df = pp.application_of_savgol_filter_and_return_dataframe(behind_right_df)\n",
    "#     front_right_df = pp.get_preceeding_or_following_dataframe(df, right_df, 'following')\n",
    "#     front_right_df = pp.application_of_savgol_filter_and_return_dataframe(front_right_df)\n",
    "    \n",
    "#     target_df = get_final_target_dataframe(target_df)\n",
    "#     front_df = get_final_surround_dataframe(front_df, target_df)\n",
    "#     front_front_df = get_final_surround_dataframe(front_front_df, target_df)\n",
    "#     left_df = get_final_surround_dataframe(left_df, target_df)\n",
    "#     behind_left_df = get_final_surround_dataframe(behind_left_df, target_df)\n",
    "#     front_left_df = get_final_surround_dataframe(front_left_df, target_df)\n",
    "#     right_df = get_final_surround_dataframe(right_df, target_df)\n",
    "#     behind_right_df = get_final_surround_dataframe(behind_right_df, target_df)\n",
    "#     front_right_df = get_final_surround_dataframe(front_right_df, target_df)\n",
    "    \n",
    "#     target_df.columns = target_df.columns.map(lambda x: str(x) + '_targ' if str(x) != 'Frame_ID' else str(x))\n",
    "#     behind_df.columns = behind_df.columns.map(lambda x: str(x) + '_b' if str(x) != 'Frame_ID' else str(x))\n",
    "#     front_df.columns = front_df.columns.map(lambda x: str(x) + '_f' if str(x) != 'Frame_ID' else str(x))\n",
    "#     front_front_df.columns = front_front_df.columns.map(lambda x: str(x) + '_ff' if str(x) != 'Frame_ID' else str(x))\n",
    "#     left_df.columns = left_df.columns.map(lambda x: str(x) + '_l' if str(x) != 'Frame_ID' else str(x))\n",
    "#     behind_left_df.columns = behind_left_df.columns.map(lambda x: str(x) + '_bl' if str(x) != 'Frame_ID' else str(x))\n",
    "#     front_left_df.columns = front_left_df.columns.map(lambda x: str(x) + '_fl' if str(x) != 'Frame_ID' else str(x))\n",
    "#     right_df.columns = right_df.columns.map(lambda x: str(x) + '_r' if str(x) != 'Frame_ID' else str(x))\n",
    "#     behind_right_df.columns = behind_right_df.columns.map(lambda x: str(x) + '_br' if str(x) != 'Frame_ID' else str(x))\n",
    "#     front_right_df.columns = front_right_df.columns.map(lambda x: str(x) + '_fr' if str(x) != 'Frame_ID' else str(x))\n",
    "\n",
    "#     dfs = [target_df, \n",
    "#            behind_df, \n",
    "#            front_df, \n",
    "#            front_front_df, \n",
    "#            left_df, \n",
    "#            behind_left_df, \n",
    "#            front_left_df, \n",
    "#            right_df, \n",
    "#            behind_right_df, \n",
    "#            front_right_df]\n",
    "#     final_df = reduce(lambda  left,right: pd.merge(left,right,on=['Frame_ID'],\n",
    "#                                                    suffixes=(False, False),\n",
    "#                                                    how='outer'), dfs).fillna(0)\n",
    "    \n",
    "#     return front_front_df"
   ]
  },
  {
   "cell_type": "code",
   "execution_count": 4,
   "metadata": {},
   "outputs": [
    {
     "name": "stdout",
     "output_type": "stream",
     "text": [
      "1533\n"
     ]
    }
   ],
   "source": [
    "target_ids_list = df.Vehicle_ID.unique()\n",
    "print(len(target_ids_list))"
   ]
  },
  {
   "cell_type": "markdown",
   "metadata": {},
   "source": [
    "Dataframe sem o uso do tipo do veículo:"
   ]
  },
  {
   "cell_type": "code",
   "execution_count": 5,
   "metadata": {},
   "outputs": [
    {
     "name": "stderr",
     "output_type": "stream",
     "text": [
      "/home/filipe/Documents/UNB/2020/TCC 1/trajectory_prediction/pre_processing.py:262: RuntimeWarning:\n",
      "\n",
      "divide by zero encountered in double_scalars\n",
      "\n",
      "/home/filipe/Documents/UNB/2020/TCC 1/trajectory_prediction/pre_processing.py:262: RuntimeWarning:\n",
      "\n",
      "divide by zero encountered in double_scalars\n",
      "\n",
      "/home/filipe/Documents/UNB/2020/TCC 1/trajectory_prediction/pre_processing.py:262: RuntimeWarning:\n",
      "\n",
      "divide by zero encountered in double_scalars\n",
      "\n",
      "/home/filipe/Documents/UNB/2020/TCC 1/trajectory_prediction/pre_processing.py:262: RuntimeWarning:\n",
      "\n",
      "divide by zero encountered in double_scalars\n",
      "\n",
      "/home/filipe/Documents/UNB/2020/TCC 1/trajectory_prediction/pre_processing.py:262: RuntimeWarning:\n",
      "\n",
      "divide by zero encountered in double_scalars\n",
      "\n",
      "/home/filipe/Documents/UNB/2020/TCC 1/trajectory_prediction/pre_processing.py:262: RuntimeWarning:\n",
      "\n",
      "divide by zero encountered in double_scalars\n",
      "\n",
      "/home/filipe/Documents/UNB/2020/TCC 1/trajectory_prediction/pre_processing.py:262: RuntimeWarning:\n",
      "\n",
      "divide by zero encountered in double_scalars\n",
      "\n",
      "/home/filipe/Documents/UNB/2020/TCC 1/trajectory_prediction/pre_processing.py:262: RuntimeWarning:\n",
      "\n",
      "divide by zero encountered in double_scalars\n",
      "\n",
      "/home/filipe/Documents/UNB/2020/TCC 1/trajectory_prediction/pre_processing.py:262: RuntimeWarning:\n",
      "\n",
      "divide by zero encountered in double_scalars\n",
      "\n",
      "/home/filipe/Documents/UNB/2020/TCC 1/trajectory_prediction/pre_processing.py:262: RuntimeWarning:\n",
      "\n",
      "divide by zero encountered in double_scalars\n",
      "\n",
      "/home/filipe/Documents/UNB/2020/TCC 1/trajectory_prediction/pre_processing.py:262: RuntimeWarning:\n",
      "\n",
      "divide by zero encountered in double_scalars\n",
      "\n",
      "/home/filipe/Documents/UNB/2020/TCC 1/trajectory_prediction/pre_processing.py:262: RuntimeWarning:\n",
      "\n",
      "divide by zero encountered in double_scalars\n",
      "\n",
      "/home/filipe/Documents/UNB/2020/TCC 1/trajectory_prediction/pre_processing.py:262: RuntimeWarning:\n",
      "\n",
      "divide by zero encountered in double_scalars\n",
      "\n",
      "/home/filipe/Documents/UNB/2020/TCC 1/trajectory_prediction/pre_processing.py:262: RuntimeWarning:\n",
      "\n",
      "divide by zero encountered in double_scalars\n",
      "\n",
      "/home/filipe/Documents/UNB/2020/TCC 1/trajectory_prediction/pre_processing.py:262: RuntimeWarning:\n",
      "\n",
      "divide by zero encountered in double_scalars\n",
      "\n",
      "/home/filipe/Documents/UNB/2020/TCC 1/trajectory_prediction/pre_processing.py:262: RuntimeWarning:\n",
      "\n",
      "divide by zero encountered in double_scalars\n",
      "\n",
      "/home/filipe/Documents/UNB/2020/TCC 1/trajectory_prediction/pre_processing.py:262: RuntimeWarning:\n",
      "\n",
      "divide by zero encountered in double_scalars\n",
      "\n",
      "/home/filipe/Documents/UNB/2020/TCC 1/trajectory_prediction/pre_processing.py:262: RuntimeWarning:\n",
      "\n",
      "divide by zero encountered in double_scalars\n",
      "\n",
      "/home/filipe/Documents/UNB/2020/TCC 1/trajectory_prediction/pre_processing.py:262: RuntimeWarning:\n",
      "\n",
      "divide by zero encountered in double_scalars\n",
      "\n",
      "/home/filipe/Documents/UNB/2020/TCC 1/trajectory_prediction/pre_processing.py:262: RuntimeWarning:\n",
      "\n",
      "divide by zero encountered in double_scalars\n",
      "\n",
      "/home/filipe/Documents/UNB/2020/TCC 1/trajectory_prediction/pre_processing.py:262: RuntimeWarning:\n",
      "\n",
      "divide by zero encountered in double_scalars\n",
      "\n",
      "/home/filipe/Documents/UNB/2020/TCC 1/trajectory_prediction/pre_processing.py:262: RuntimeWarning:\n",
      "\n",
      "divide by zero encountered in double_scalars\n",
      "\n",
      "/home/filipe/Documents/UNB/2020/TCC 1/trajectory_prediction/pre_processing.py:262: RuntimeWarning:\n",
      "\n",
      "divide by zero encountered in double_scalars\n",
      "\n",
      "/home/filipe/Documents/UNB/2020/TCC 1/trajectory_prediction/pre_processing.py:262: RuntimeWarning:\n",
      "\n",
      "divide by zero encountered in double_scalars\n",
      "\n",
      "/home/filipe/Documents/UNB/2020/TCC 1/trajectory_prediction/pre_processing.py:262: RuntimeWarning:\n",
      "\n",
      "divide by zero encountered in double_scalars\n",
      "\n",
      "/home/filipe/Documents/UNB/2020/TCC 1/trajectory_prediction/pre_processing.py:262: RuntimeWarning:\n",
      "\n",
      "divide by zero encountered in double_scalars\n",
      "\n",
      "/home/filipe/Documents/UNB/2020/TCC 1/trajectory_prediction/pre_processing.py:262: RuntimeWarning:\n",
      "\n",
      "divide by zero encountered in double_scalars\n",
      "\n",
      "/home/filipe/Documents/UNB/2020/TCC 1/trajectory_prediction/pre_processing.py:262: RuntimeWarning:\n",
      "\n",
      "divide by zero encountered in double_scalars\n",
      "\n",
      "/home/filipe/Documents/UNB/2020/TCC 1/trajectory_prediction/pre_processing.py:262: RuntimeWarning:\n",
      "\n",
      "divide by zero encountered in double_scalars\n",
      "\n",
      "/home/filipe/Documents/UNB/2020/TCC 1/trajectory_prediction/pre_processing.py:262: RuntimeWarning:\n",
      "\n",
      "divide by zero encountered in double_scalars\n",
      "\n",
      "/home/filipe/Documents/UNB/2020/TCC 1/trajectory_prediction/pre_processing.py:262: RuntimeWarning:\n",
      "\n",
      "divide by zero encountered in double_scalars\n",
      "\n",
      "/home/filipe/Documents/UNB/2020/TCC 1/trajectory_prediction/pre_processing.py:262: RuntimeWarning:\n",
      "\n",
      "divide by zero encountered in double_scalars\n",
      "\n",
      "/home/filipe/Documents/UNB/2020/TCC 1/trajectory_prediction/pre_processing.py:262: RuntimeWarning:\n",
      "\n",
      "divide by zero encountered in double_scalars\n",
      "\n",
      "/home/filipe/Documents/UNB/2020/TCC 1/trajectory_prediction/pre_processing.py:262: RuntimeWarning:\n",
      "\n",
      "divide by zero encountered in double_scalars\n",
      "\n",
      "/home/filipe/Documents/UNB/2020/TCC 1/trajectory_prediction/pre_processing.py:262: RuntimeWarning:\n",
      "\n",
      "divide by zero encountered in double_scalars\n",
      "\n",
      "/home/filipe/Documents/UNB/2020/TCC 1/trajectory_prediction/pre_processing.py:262: RuntimeWarning:\n",
      "\n",
      "divide by zero encountered in double_scalars\n",
      "\n",
      "/home/filipe/Documents/UNB/2020/TCC 1/trajectory_prediction/pre_processing.py:262: RuntimeWarning:\n",
      "\n",
      "divide by zero encountered in double_scalars\n",
      "\n",
      "/home/filipe/Documents/UNB/2020/TCC 1/trajectory_prediction/pre_processing.py:262: RuntimeWarning:\n",
      "\n",
      "divide by zero encountered in double_scalars\n",
      "\n",
      "/home/filipe/Documents/UNB/2020/TCC 1/trajectory_prediction/pre_processing.py:262: RuntimeWarning:\n",
      "\n",
      "divide by zero encountered in double_scalars\n",
      "\n",
      "/home/filipe/Documents/UNB/2020/TCC 1/trajectory_prediction/pre_processing.py:262: RuntimeWarning:\n",
      "\n",
      "divide by zero encountered in double_scalars\n",
      "\n",
      "/home/filipe/Documents/UNB/2020/TCC 1/trajectory_prediction/pre_processing.py:262: RuntimeWarning:\n",
      "\n",
      "divide by zero encountered in double_scalars\n",
      "\n",
      "/home/filipe/Documents/UNB/2020/TCC 1/trajectory_prediction/pre_processing.py:262: RuntimeWarning:\n",
      "\n",
      "divide by zero encountered in double_scalars\n",
      "\n",
      "/home/filipe/Documents/UNB/2020/TCC 1/trajectory_prediction/pre_processing.py:262: RuntimeWarning:\n",
      "\n",
      "divide by zero encountered in double_scalars\n",
      "\n",
      "/home/filipe/Documents/UNB/2020/TCC 1/trajectory_prediction/pre_processing.py:262: RuntimeWarning:\n",
      "\n",
      "divide by zero encountered in double_scalars\n",
      "\n",
      "/home/filipe/Documents/UNB/2020/TCC 1/trajectory_prediction/pre_processing.py:262: RuntimeWarning:\n",
      "\n",
      "divide by zero encountered in double_scalars\n",
      "\n"
     ]
    },
    {
     "name": "stdout",
     "output_type": "stream",
     "text": [
      "CPU times: user 1min 58s, sys: 926 ms, total: 1min 59s\n",
      "Wall time: 1min 59s\n"
     ]
    },
    {
     "name": "stderr",
     "output_type": "stream",
     "text": [
      "/home/filipe/Documents/UNB/2020/TCC 1/trajectory_prediction/pre_processing.py:262: RuntimeWarning:\n",
      "\n",
      "divide by zero encountered in double_scalars\n",
      "\n"
     ]
    }
   ],
   "source": [
    "%%time\n",
    "target_df_list = []\n",
    "for target_id in target_ids_list[:20]:\n",
    "    final_df = pp.get_complete_df(df, target_id, 1)\n",
    "    target_df_list.append(final_df)"
   ]
  },
  {
   "cell_type": "code",
   "execution_count": 6,
   "metadata": {},
   "outputs": [
    {
     "data": {
      "text/plain": [
       "20"
      ]
     },
     "execution_count": 6,
     "metadata": {},
     "output_type": "execute_result"
    }
   ],
   "source": [
    "len(target_df_list)"
   ]
  },
  {
   "cell_type": "code",
   "execution_count": 8,
   "metadata": {},
   "outputs": [
    {
     "data": {
      "text/html": [
       "<div>\n",
       "<style scoped>\n",
       "    .dataframe tbody tr th:only-of-type {\n",
       "        vertical-align: middle;\n",
       "    }\n",
       "\n",
       "    .dataframe tbody tr th {\n",
       "        vertical-align: top;\n",
       "    }\n",
       "\n",
       "    .dataframe thead th {\n",
       "        text-align: right;\n",
       "    }\n",
       "</style>\n",
       "<table border=\"1\" class=\"dataframe\">\n",
       "  <thead>\n",
       "    <tr style=\"text-align: right;\">\n",
       "      <th></th>\n",
       "      <th>Frame_ID</th>\n",
       "      <th>Local_X_meters_targ</th>\n",
       "      <th>Local_Y_meters_targ</th>\n",
       "      <th>Local_X_Vel_targ</th>\n",
       "      <th>Local_Y_Vel_targ</th>\n",
       "      <th>Local_X_Vel_b</th>\n",
       "      <th>Relative_Y_Vel_b</th>\n",
       "      <th>Relative_Targ_X_b</th>\n",
       "      <th>Relative_Targ_Y_b</th>\n",
       "      <th>Time_To_Collision_b</th>\n",
       "      <th>...</th>\n",
       "      <th>Local_X_Vel_br</th>\n",
       "      <th>Relative_Y_Vel_br</th>\n",
       "      <th>Relative_Targ_X_br</th>\n",
       "      <th>Relative_Targ_Y_br</th>\n",
       "      <th>Time_To_Collision_br</th>\n",
       "      <th>Local_X_Vel_fr</th>\n",
       "      <th>Relative_Y_Vel_fr</th>\n",
       "      <th>Relative_Targ_X_fr</th>\n",
       "      <th>Relative_Targ_Y_fr</th>\n",
       "      <th>Time_To_Collision_fr</th>\n",
       "    </tr>\n",
       "  </thead>\n",
       "  <tbody>\n",
       "    <tr>\n",
       "      <th>0</th>\n",
       "      <td>299</td>\n",
       "      <td>15.880883</td>\n",
       "      <td>25.595282</td>\n",
       "      <td>-0.030480</td>\n",
       "      <td>6.096074</td>\n",
       "      <td>0.000000</td>\n",
       "      <td>0.000000</td>\n",
       "      <td>0.000000</td>\n",
       "      <td>0.000000</td>\n",
       "      <td>0.000000</td>\n",
       "      <td>...</td>\n",
       "      <td>0</td>\n",
       "      <td>0</td>\n",
       "      <td>0</td>\n",
       "      <td>0</td>\n",
       "      <td>0</td>\n",
       "      <td>0</td>\n",
       "      <td>0</td>\n",
       "      <td>0</td>\n",
       "      <td>0</td>\n",
       "      <td>0</td>\n",
       "    </tr>\n",
       "    <tr>\n",
       "      <th>1</th>\n",
       "      <td>300</td>\n",
       "      <td>15.877835</td>\n",
       "      <td>26.204889</td>\n",
       "      <td>-0.030480</td>\n",
       "      <td>6.096074</td>\n",
       "      <td>0.000000</td>\n",
       "      <td>0.000000</td>\n",
       "      <td>0.000000</td>\n",
       "      <td>0.000000</td>\n",
       "      <td>0.000000</td>\n",
       "      <td>...</td>\n",
       "      <td>0</td>\n",
       "      <td>0</td>\n",
       "      <td>0</td>\n",
       "      <td>0</td>\n",
       "      <td>0</td>\n",
       "      <td>0</td>\n",
       "      <td>0</td>\n",
       "      <td>0</td>\n",
       "      <td>0</td>\n",
       "      <td>0</td>\n",
       "    </tr>\n",
       "    <tr>\n",
       "      <th>2</th>\n",
       "      <td>301</td>\n",
       "      <td>15.874482</td>\n",
       "      <td>26.814496</td>\n",
       "      <td>-0.033528</td>\n",
       "      <td>6.096074</td>\n",
       "      <td>0.000000</td>\n",
       "      <td>0.000000</td>\n",
       "      <td>0.000000</td>\n",
       "      <td>0.000000</td>\n",
       "      <td>0.000000</td>\n",
       "      <td>...</td>\n",
       "      <td>0</td>\n",
       "      <td>0</td>\n",
       "      <td>0</td>\n",
       "      <td>0</td>\n",
       "      <td>0</td>\n",
       "      <td>0</td>\n",
       "      <td>0</td>\n",
       "      <td>0</td>\n",
       "      <td>0</td>\n",
       "      <td>0</td>\n",
       "    </tr>\n",
       "    <tr>\n",
       "      <th>3</th>\n",
       "      <td>302</td>\n",
       "      <td>15.871434</td>\n",
       "      <td>27.424104</td>\n",
       "      <td>-0.030480</td>\n",
       "      <td>6.096074</td>\n",
       "      <td>0.000000</td>\n",
       "      <td>0.000000</td>\n",
       "      <td>0.000000</td>\n",
       "      <td>0.000000</td>\n",
       "      <td>0.000000</td>\n",
       "      <td>...</td>\n",
       "      <td>0</td>\n",
       "      <td>0</td>\n",
       "      <td>0</td>\n",
       "      <td>0</td>\n",
       "      <td>0</td>\n",
       "      <td>0</td>\n",
       "      <td>0</td>\n",
       "      <td>0</td>\n",
       "      <td>0</td>\n",
       "      <td>0</td>\n",
       "    </tr>\n",
       "    <tr>\n",
       "      <th>4</th>\n",
       "      <td>303</td>\n",
       "      <td>15.868386</td>\n",
       "      <td>28.033711</td>\n",
       "      <td>-0.030480</td>\n",
       "      <td>6.096074</td>\n",
       "      <td>0.000000</td>\n",
       "      <td>0.000000</td>\n",
       "      <td>0.000000</td>\n",
       "      <td>0.000000</td>\n",
       "      <td>0.000000</td>\n",
       "      <td>...</td>\n",
       "      <td>0</td>\n",
       "      <td>0</td>\n",
       "      <td>0</td>\n",
       "      <td>0</td>\n",
       "      <td>0</td>\n",
       "      <td>0</td>\n",
       "      <td>0</td>\n",
       "      <td>0</td>\n",
       "      <td>0</td>\n",
       "      <td>0</td>\n",
       "    </tr>\n",
       "    <tr>\n",
       "      <th>...</th>\n",
       "      <td>...</td>\n",
       "      <td>...</td>\n",
       "      <td>...</td>\n",
       "      <td>...</td>\n",
       "      <td>...</td>\n",
       "      <td>...</td>\n",
       "      <td>...</td>\n",
       "      <td>...</td>\n",
       "      <td>...</td>\n",
       "      <td>...</td>\n",
       "      <td>...</td>\n",
       "      <td>...</td>\n",
       "      <td>...</td>\n",
       "      <td>...</td>\n",
       "      <td>...</td>\n",
       "      <td>...</td>\n",
       "      <td>...</td>\n",
       "      <td>...</td>\n",
       "      <td>...</td>\n",
       "      <td>...</td>\n",
       "      <td>...</td>\n",
       "    </tr>\n",
       "    <tr>\n",
       "      <th>571</th>\n",
       "      <td>870</td>\n",
       "      <td>13.019995</td>\n",
       "      <td>653.741770</td>\n",
       "      <td>0.048769</td>\n",
       "      <td>15.054255</td>\n",
       "      <td>-0.070105</td>\n",
       "      <td>-0.341380</td>\n",
       "      <td>0.931480</td>\n",
       "      <td>-33.960010</td>\n",
       "      <td>99.478571</td>\n",
       "      <td>...</td>\n",
       "      <td>0</td>\n",
       "      <td>0</td>\n",
       "      <td>0</td>\n",
       "      <td>0</td>\n",
       "      <td>0</td>\n",
       "      <td>0</td>\n",
       "      <td>0</td>\n",
       "      <td>0</td>\n",
       "      <td>0</td>\n",
       "      <td>0</td>\n",
       "    </tr>\n",
       "    <tr>\n",
       "      <th>572</th>\n",
       "      <td>871</td>\n",
       "      <td>13.014204</td>\n",
       "      <td>655.217325</td>\n",
       "      <td>-0.057913</td>\n",
       "      <td>14.755547</td>\n",
       "      <td>-0.271275</td>\n",
       "      <td>-0.475494</td>\n",
       "      <td>0.910144</td>\n",
       "      <td>-33.912460</td>\n",
       "      <td>71.320513</td>\n",
       "      <td>...</td>\n",
       "      <td>0</td>\n",
       "      <td>0</td>\n",
       "      <td>0</td>\n",
       "      <td>0</td>\n",
       "      <td>0</td>\n",
       "      <td>0</td>\n",
       "      <td>0</td>\n",
       "      <td>0</td>\n",
       "      <td>0</td>\n",
       "      <td>0</td>\n",
       "    </tr>\n",
       "    <tr>\n",
       "      <th>573</th>\n",
       "      <td>872</td>\n",
       "      <td>13.012985</td>\n",
       "      <td>656.657218</td>\n",
       "      <td>-0.012192</td>\n",
       "      <td>14.398927</td>\n",
       "      <td>-0.179834</td>\n",
       "      <td>-0.835162</td>\n",
       "      <td>0.893380</td>\n",
       "      <td>-33.828944</td>\n",
       "      <td>40.505839</td>\n",
       "      <td>...</td>\n",
       "      <td>0</td>\n",
       "      <td>0</td>\n",
       "      <td>0</td>\n",
       "      <td>0</td>\n",
       "      <td>0</td>\n",
       "      <td>0</td>\n",
       "      <td>0</td>\n",
       "      <td>0</td>\n",
       "      <td>0</td>\n",
       "      <td>0</td>\n",
       "    </tr>\n",
       "    <tr>\n",
       "      <th>574</th>\n",
       "      <td>873</td>\n",
       "      <td>13.012070</td>\n",
       "      <td>658.181236</td>\n",
       "      <td>-0.009144</td>\n",
       "      <td>15.240185</td>\n",
       "      <td>-0.179834</td>\n",
       "      <td>-0.003048</td>\n",
       "      <td>0.876311</td>\n",
       "      <td>-33.828639</td>\n",
       "      <td>11098.499996</td>\n",
       "      <td>...</td>\n",
       "      <td>0</td>\n",
       "      <td>0</td>\n",
       "      <td>0</td>\n",
       "      <td>0</td>\n",
       "      <td>0</td>\n",
       "      <td>0</td>\n",
       "      <td>0</td>\n",
       "      <td>0</td>\n",
       "      <td>0</td>\n",
       "      <td>0</td>\n",
       "    </tr>\n",
       "    <tr>\n",
       "      <th>575</th>\n",
       "      <td>874</td>\n",
       "      <td>13.010851</td>\n",
       "      <td>659.705255</td>\n",
       "      <td>-0.012192</td>\n",
       "      <td>15.240185</td>\n",
       "      <td>-0.179834</td>\n",
       "      <td>0.006096</td>\n",
       "      <td>0.859546</td>\n",
       "      <td>-33.829249</td>\n",
       "      <td>-5549.349999</td>\n",
       "      <td>...</td>\n",
       "      <td>0</td>\n",
       "      <td>0</td>\n",
       "      <td>0</td>\n",
       "      <td>0</td>\n",
       "      <td>0</td>\n",
       "      <td>0</td>\n",
       "      <td>0</td>\n",
       "      <td>0</td>\n",
       "      <td>0</td>\n",
       "      <td>0</td>\n",
       "    </tr>\n",
       "  </tbody>\n",
       "</table>\n",
       "<p>576 rows × 50 columns</p>\n",
       "</div>"
      ],
      "text/plain": [
       "     Frame_ID  Local_X_meters_targ  Local_Y_meters_targ  Local_X_Vel_targ  \\\n",
       "0         299            15.880883            25.595282         -0.030480   \n",
       "1         300            15.877835            26.204889         -0.030480   \n",
       "2         301            15.874482            26.814496         -0.033528   \n",
       "3         302            15.871434            27.424104         -0.030480   \n",
       "4         303            15.868386            28.033711         -0.030480   \n",
       "..        ...                  ...                  ...               ...   \n",
       "571       870            13.019995           653.741770          0.048769   \n",
       "572       871            13.014204           655.217325         -0.057913   \n",
       "573       872            13.012985           656.657218         -0.012192   \n",
       "574       873            13.012070           658.181236         -0.009144   \n",
       "575       874            13.010851           659.705255         -0.012192   \n",
       "\n",
       "     Local_Y_Vel_targ  Local_X_Vel_b  Relative_Y_Vel_b  Relative_Targ_X_b  \\\n",
       "0            6.096074       0.000000          0.000000           0.000000   \n",
       "1            6.096074       0.000000          0.000000           0.000000   \n",
       "2            6.096074       0.000000          0.000000           0.000000   \n",
       "3            6.096074       0.000000          0.000000           0.000000   \n",
       "4            6.096074       0.000000          0.000000           0.000000   \n",
       "..                ...            ...               ...                ...   \n",
       "571         15.054255      -0.070105         -0.341380           0.931480   \n",
       "572         14.755547      -0.271275         -0.475494           0.910144   \n",
       "573         14.398927      -0.179834         -0.835162           0.893380   \n",
       "574         15.240185      -0.179834         -0.003048           0.876311   \n",
       "575         15.240185      -0.179834          0.006096           0.859546   \n",
       "\n",
       "     Relative_Targ_Y_b  Time_To_Collision_b  ...  Local_X_Vel_br  \\\n",
       "0             0.000000             0.000000  ...               0   \n",
       "1             0.000000             0.000000  ...               0   \n",
       "2             0.000000             0.000000  ...               0   \n",
       "3             0.000000             0.000000  ...               0   \n",
       "4             0.000000             0.000000  ...               0   \n",
       "..                 ...                  ...  ...             ...   \n",
       "571         -33.960010            99.478571  ...               0   \n",
       "572         -33.912460            71.320513  ...               0   \n",
       "573         -33.828944            40.505839  ...               0   \n",
       "574         -33.828639         11098.499996  ...               0   \n",
       "575         -33.829249         -5549.349999  ...               0   \n",
       "\n",
       "     Relative_Y_Vel_br  Relative_Targ_X_br  Relative_Targ_Y_br  \\\n",
       "0                    0                   0                   0   \n",
       "1                    0                   0                   0   \n",
       "2                    0                   0                   0   \n",
       "3                    0                   0                   0   \n",
       "4                    0                   0                   0   \n",
       "..                 ...                 ...                 ...   \n",
       "571                  0                   0                   0   \n",
       "572                  0                   0                   0   \n",
       "573                  0                   0                   0   \n",
       "574                  0                   0                   0   \n",
       "575                  0                   0                   0   \n",
       "\n",
       "     Time_To_Collision_br  Local_X_Vel_fr  Relative_Y_Vel_fr  \\\n",
       "0                       0               0                  0   \n",
       "1                       0               0                  0   \n",
       "2                       0               0                  0   \n",
       "3                       0               0                  0   \n",
       "4                       0               0                  0   \n",
       "..                    ...             ...                ...   \n",
       "571                     0               0                  0   \n",
       "572                     0               0                  0   \n",
       "573                     0               0                  0   \n",
       "574                     0               0                  0   \n",
       "575                     0               0                  0   \n",
       "\n",
       "     Relative_Targ_X_fr  Relative_Targ_Y_fr  Time_To_Collision_fr  \n",
       "0                     0                   0                     0  \n",
       "1                     0                   0                     0  \n",
       "2                     0                   0                     0  \n",
       "3                     0                   0                     0  \n",
       "4                     0                   0                     0  \n",
       "..                  ...                 ...                   ...  \n",
       "571                   0                   0                     0  \n",
       "572                   0                   0                     0  \n",
       "573                   0                   0                     0  \n",
       "574                   0                   0                     0  \n",
       "575                   0                   0                     0  \n",
       "\n",
       "[576 rows x 50 columns]"
      ]
     },
     "execution_count": 8,
     "metadata": {},
     "output_type": "execute_result"
    }
   ],
   "source": [
    "target_df_list[5]"
   ]
  },
  {
   "cell_type": "code",
   "execution_count": 9,
   "metadata": {},
   "outputs": [
    {
     "data": {
      "text/html": [
       "<div>\n",
       "<style scoped>\n",
       "    .dataframe tbody tr th:only-of-type {\n",
       "        vertical-align: middle;\n",
       "    }\n",
       "\n",
       "    .dataframe tbody tr th {\n",
       "        vertical-align: top;\n",
       "    }\n",
       "\n",
       "    .dataframe thead th {\n",
       "        text-align: right;\n",
       "    }\n",
       "</style>\n",
       "<table border=\"1\" class=\"dataframe\">\n",
       "  <thead>\n",
       "    <tr style=\"text-align: right;\">\n",
       "      <th></th>\n",
       "      <th>Frame_ID</th>\n",
       "      <th>Local_X_meters_targ</th>\n",
       "      <th>Local_Y_meters_targ</th>\n",
       "      <th>Local_X_Vel_targ</th>\n",
       "      <th>Local_Y_Vel_targ</th>\n",
       "      <th>Local_X_Vel_b</th>\n",
       "      <th>Relative_Y_Vel_b</th>\n",
       "      <th>Relative_Targ_X_b</th>\n",
       "      <th>Relative_Targ_Y_b</th>\n",
       "      <th>Time_To_Collision_b</th>\n",
       "      <th>...</th>\n",
       "      <th>Local_X_Vel_br</th>\n",
       "      <th>Relative_Y_Vel_br</th>\n",
       "      <th>Relative_Targ_X_br</th>\n",
       "      <th>Relative_Targ_Y_br</th>\n",
       "      <th>Time_To_Collision_br</th>\n",
       "      <th>Local_X_Vel_fr</th>\n",
       "      <th>Relative_Y_Vel_fr</th>\n",
       "      <th>Relative_Targ_X_fr</th>\n",
       "      <th>Relative_Targ_Y_fr</th>\n",
       "      <th>Time_To_Collision_fr</th>\n",
       "    </tr>\n",
       "  </thead>\n",
       "  <tbody>\n",
       "    <tr>\n",
       "      <th>0</th>\n",
       "      <td>271</td>\n",
       "      <td>15.591624</td>\n",
       "      <td>35.015240</td>\n",
       "      <td>-0.033528</td>\n",
       "      <td>6.096074</td>\n",
       "      <td>0.000000</td>\n",
       "      <td>0.000000</td>\n",
       "      <td>0.000000</td>\n",
       "      <td>0.000000</td>\n",
       "      <td>0.000000</td>\n",
       "      <td>...</td>\n",
       "      <td>0.0</td>\n",
       "      <td>0.0</td>\n",
       "      <td>0.0</td>\n",
       "      <td>0.0</td>\n",
       "      <td>0.0</td>\n",
       "      <td>0.0</td>\n",
       "      <td>0.0</td>\n",
       "      <td>0.0</td>\n",
       "      <td>0.0</td>\n",
       "      <td>0.0</td>\n",
       "    </tr>\n",
       "    <tr>\n",
       "      <th>1</th>\n",
       "      <td>272</td>\n",
       "      <td>15.588576</td>\n",
       "      <td>35.624848</td>\n",
       "      <td>-0.030480</td>\n",
       "      <td>6.096074</td>\n",
       "      <td>0.000000</td>\n",
       "      <td>0.000000</td>\n",
       "      <td>0.000000</td>\n",
       "      <td>0.000000</td>\n",
       "      <td>0.000000</td>\n",
       "      <td>...</td>\n",
       "      <td>0.0</td>\n",
       "      <td>0.0</td>\n",
       "      <td>0.0</td>\n",
       "      <td>0.0</td>\n",
       "      <td>0.0</td>\n",
       "      <td>0.0</td>\n",
       "      <td>0.0</td>\n",
       "      <td>0.0</td>\n",
       "      <td>0.0</td>\n",
       "      <td>0.0</td>\n",
       "    </tr>\n",
       "    <tr>\n",
       "      <th>2</th>\n",
       "      <td>273</td>\n",
       "      <td>15.619361</td>\n",
       "      <td>36.215252</td>\n",
       "      <td>0.307852</td>\n",
       "      <td>5.904048</td>\n",
       "      <td>0.000000</td>\n",
       "      <td>0.000000</td>\n",
       "      <td>0.000000</td>\n",
       "      <td>0.000000</td>\n",
       "      <td>0.000000</td>\n",
       "      <td>...</td>\n",
       "      <td>0.0</td>\n",
       "      <td>0.0</td>\n",
       "      <td>0.0</td>\n",
       "      <td>0.0</td>\n",
       "      <td>0.0</td>\n",
       "      <td>0.0</td>\n",
       "      <td>0.0</td>\n",
       "      <td>0.0</td>\n",
       "      <td>0.0</td>\n",
       "      <td>0.0</td>\n",
       "    </tr>\n",
       "    <tr>\n",
       "      <th>3</th>\n",
       "      <td>274</td>\n",
       "      <td>15.616313</td>\n",
       "      <td>36.824555</td>\n",
       "      <td>-0.030480</td>\n",
       "      <td>6.093026</td>\n",
       "      <td>0.000000</td>\n",
       "      <td>0.000000</td>\n",
       "      <td>0.000000</td>\n",
       "      <td>0.000000</td>\n",
       "      <td>0.000000</td>\n",
       "      <td>...</td>\n",
       "      <td>0.0</td>\n",
       "      <td>0.0</td>\n",
       "      <td>0.0</td>\n",
       "      <td>0.0</td>\n",
       "      <td>0.0</td>\n",
       "      <td>0.0</td>\n",
       "      <td>0.0</td>\n",
       "      <td>0.0</td>\n",
       "      <td>0.0</td>\n",
       "      <td>0.0</td>\n",
       "    </tr>\n",
       "    <tr>\n",
       "      <th>4</th>\n",
       "      <td>275</td>\n",
       "      <td>15.615094</td>\n",
       "      <td>37.432943</td>\n",
       "      <td>-0.012192</td>\n",
       "      <td>6.083882</td>\n",
       "      <td>0.000000</td>\n",
       "      <td>0.000000</td>\n",
       "      <td>0.000000</td>\n",
       "      <td>0.000000</td>\n",
       "      <td>0.000000</td>\n",
       "      <td>...</td>\n",
       "      <td>0.0</td>\n",
       "      <td>0.0</td>\n",
       "      <td>0.0</td>\n",
       "      <td>0.0</td>\n",
       "      <td>0.0</td>\n",
       "      <td>0.0</td>\n",
       "      <td>0.0</td>\n",
       "      <td>0.0</td>\n",
       "      <td>0.0</td>\n",
       "      <td>0.0</td>\n",
       "    </tr>\n",
       "    <tr>\n",
       "      <th>...</th>\n",
       "      <td>...</td>\n",
       "      <td>...</td>\n",
       "      <td>...</td>\n",
       "      <td>...</td>\n",
       "      <td>...</td>\n",
       "      <td>...</td>\n",
       "      <td>...</td>\n",
       "      <td>...</td>\n",
       "      <td>...</td>\n",
       "      <td>...</td>\n",
       "      <td>...</td>\n",
       "      <td>...</td>\n",
       "      <td>...</td>\n",
       "      <td>...</td>\n",
       "      <td>...</td>\n",
       "      <td>...</td>\n",
       "      <td>...</td>\n",
       "      <td>...</td>\n",
       "      <td>...</td>\n",
       "      <td>...</td>\n",
       "      <td>...</td>\n",
       "    </tr>\n",
       "    <tr>\n",
       "      <th>13104</th>\n",
       "      <td>916</td>\n",
       "      <td>14.163619</td>\n",
       "      <td>653.717996</td>\n",
       "      <td>0.000000</td>\n",
       "      <td>16.483784</td>\n",
       "      <td>0.679712</td>\n",
       "      <td>-0.097537</td>\n",
       "      <td>-1.335650</td>\n",
       "      <td>-39.164228</td>\n",
       "      <td>401.531250</td>\n",
       "      <td>...</td>\n",
       "      <td>0.0</td>\n",
       "      <td>0.0</td>\n",
       "      <td>0.0</td>\n",
       "      <td>0.0</td>\n",
       "      <td>0.0</td>\n",
       "      <td>0.0</td>\n",
       "      <td>0.0</td>\n",
       "      <td>0.0</td>\n",
       "      <td>0.0</td>\n",
       "      <td>0.0</td>\n",
       "    </tr>\n",
       "    <tr>\n",
       "      <th>13105</th>\n",
       "      <td>917</td>\n",
       "      <td>14.163314</td>\n",
       "      <td>655.347171</td>\n",
       "      <td>-0.003048</td>\n",
       "      <td>16.291758</td>\n",
       "      <td>0.000000</td>\n",
       "      <td>0.000000</td>\n",
       "      <td>0.000000</td>\n",
       "      <td>0.000000</td>\n",
       "      <td>0.000000</td>\n",
       "      <td>...</td>\n",
       "      <td>0.0</td>\n",
       "      <td>0.0</td>\n",
       "      <td>0.0</td>\n",
       "      <td>0.0</td>\n",
       "      <td>0.0</td>\n",
       "      <td>0.0</td>\n",
       "      <td>0.0</td>\n",
       "      <td>0.0</td>\n",
       "      <td>0.0</td>\n",
       "      <td>0.0</td>\n",
       "    </tr>\n",
       "    <tr>\n",
       "      <th>13106</th>\n",
       "      <td>918</td>\n",
       "      <td>14.155999</td>\n",
       "      <td>656.966594</td>\n",
       "      <td>-0.073153</td>\n",
       "      <td>16.194221</td>\n",
       "      <td>-0.198122</td>\n",
       "      <td>0.021336</td>\n",
       "      <td>2.282370</td>\n",
       "      <td>-17.240917</td>\n",
       "      <td>-808.057143</td>\n",
       "      <td>...</td>\n",
       "      <td>0.0</td>\n",
       "      <td>0.0</td>\n",
       "      <td>0.0</td>\n",
       "      <td>0.0</td>\n",
       "      <td>0.0</td>\n",
       "      <td>0.0</td>\n",
       "      <td>0.0</td>\n",
       "      <td>0.0</td>\n",
       "      <td>0.0</td>\n",
       "      <td>0.0</td>\n",
       "    </tr>\n",
       "    <tr>\n",
       "      <th>13107</th>\n",
       "      <td>919</td>\n",
       "      <td>14.155084</td>\n",
       "      <td>658.490612</td>\n",
       "      <td>-0.009144</td>\n",
       "      <td>15.240185</td>\n",
       "      <td>-0.039624</td>\n",
       "      <td>-0.755913</td>\n",
       "      <td>2.279322</td>\n",
       "      <td>-17.165326</td>\n",
       "      <td>22.708065</td>\n",
       "      <td>...</td>\n",
       "      <td>0.0</td>\n",
       "      <td>0.0</td>\n",
       "      <td>0.0</td>\n",
       "      <td>0.0</td>\n",
       "      <td>0.0</td>\n",
       "      <td>0.0</td>\n",
       "      <td>0.0</td>\n",
       "      <td>0.0</td>\n",
       "      <td>0.0</td>\n",
       "      <td>0.0</td>\n",
       "    </tr>\n",
       "    <tr>\n",
       "      <th>13108</th>\n",
       "      <td>920</td>\n",
       "      <td>14.153560</td>\n",
       "      <td>660.014631</td>\n",
       "      <td>-0.015240</td>\n",
       "      <td>15.240185</td>\n",
       "      <td>-0.003048</td>\n",
       "      <td>-0.935747</td>\n",
       "      <td>2.280541</td>\n",
       "      <td>-17.071751</td>\n",
       "      <td>18.243974</td>\n",
       "      <td>...</td>\n",
       "      <td>0.0</td>\n",
       "      <td>0.0</td>\n",
       "      <td>0.0</td>\n",
       "      <td>0.0</td>\n",
       "      <td>0.0</td>\n",
       "      <td>0.0</td>\n",
       "      <td>0.0</td>\n",
       "      <td>0.0</td>\n",
       "      <td>0.0</td>\n",
       "      <td>0.0</td>\n",
       "    </tr>\n",
       "  </tbody>\n",
       "</table>\n",
       "<p>13109 rows × 50 columns</p>\n",
       "</div>"
      ],
      "text/plain": [
       "       Frame_ID  Local_X_meters_targ  Local_Y_meters_targ  Local_X_Vel_targ  \\\n",
       "0           271            15.591624            35.015240         -0.033528   \n",
       "1           272            15.588576            35.624848         -0.030480   \n",
       "2           273            15.619361            36.215252          0.307852   \n",
       "3           274            15.616313            36.824555         -0.030480   \n",
       "4           275            15.615094            37.432943         -0.012192   \n",
       "...         ...                  ...                  ...               ...   \n",
       "13104       916            14.163619           653.717996          0.000000   \n",
       "13105       917            14.163314           655.347171         -0.003048   \n",
       "13106       918            14.155999           656.966594         -0.073153   \n",
       "13107       919            14.155084           658.490612         -0.009144   \n",
       "13108       920            14.153560           660.014631         -0.015240   \n",
       "\n",
       "       Local_Y_Vel_targ  Local_X_Vel_b  Relative_Y_Vel_b  Relative_Targ_X_b  \\\n",
       "0              6.096074       0.000000          0.000000           0.000000   \n",
       "1              6.096074       0.000000          0.000000           0.000000   \n",
       "2              5.904048       0.000000          0.000000           0.000000   \n",
       "3              6.093026       0.000000          0.000000           0.000000   \n",
       "4              6.083882       0.000000          0.000000           0.000000   \n",
       "...                 ...            ...               ...                ...   \n",
       "13104         16.483784       0.679712         -0.097537          -1.335650   \n",
       "13105         16.291758       0.000000          0.000000           0.000000   \n",
       "13106         16.194221      -0.198122          0.021336           2.282370   \n",
       "13107         15.240185      -0.039624         -0.755913           2.279322   \n",
       "13108         15.240185      -0.003048         -0.935747           2.280541   \n",
       "\n",
       "       Relative_Targ_Y_b  Time_To_Collision_b  ...  Local_X_Vel_br  \\\n",
       "0               0.000000             0.000000  ...             0.0   \n",
       "1               0.000000             0.000000  ...             0.0   \n",
       "2               0.000000             0.000000  ...             0.0   \n",
       "3               0.000000             0.000000  ...             0.0   \n",
       "4               0.000000             0.000000  ...             0.0   \n",
       "...                  ...                  ...  ...             ...   \n",
       "13104         -39.164228           401.531250  ...             0.0   \n",
       "13105           0.000000             0.000000  ...             0.0   \n",
       "13106         -17.240917          -808.057143  ...             0.0   \n",
       "13107         -17.165326            22.708065  ...             0.0   \n",
       "13108         -17.071751            18.243974  ...             0.0   \n",
       "\n",
       "       Relative_Y_Vel_br  Relative_Targ_X_br  Relative_Targ_Y_br  \\\n",
       "0                    0.0                 0.0                 0.0   \n",
       "1                    0.0                 0.0                 0.0   \n",
       "2                    0.0                 0.0                 0.0   \n",
       "3                    0.0                 0.0                 0.0   \n",
       "4                    0.0                 0.0                 0.0   \n",
       "...                  ...                 ...                 ...   \n",
       "13104                0.0                 0.0                 0.0   \n",
       "13105                0.0                 0.0                 0.0   \n",
       "13106                0.0                 0.0                 0.0   \n",
       "13107                0.0                 0.0                 0.0   \n",
       "13108                0.0                 0.0                 0.0   \n",
       "\n",
       "       Time_To_Collision_br  Local_X_Vel_fr  Relative_Y_Vel_fr  \\\n",
       "0                       0.0             0.0                0.0   \n",
       "1                       0.0             0.0                0.0   \n",
       "2                       0.0             0.0                0.0   \n",
       "3                       0.0             0.0                0.0   \n",
       "4                       0.0             0.0                0.0   \n",
       "...                     ...             ...                ...   \n",
       "13104                   0.0             0.0                0.0   \n",
       "13105                   0.0             0.0                0.0   \n",
       "13106                   0.0             0.0                0.0   \n",
       "13107                   0.0             0.0                0.0   \n",
       "13108                   0.0             0.0                0.0   \n",
       "\n",
       "       Relative_Targ_X_fr  Relative_Targ_Y_fr  Time_To_Collision_fr  \n",
       "0                     0.0                 0.0                   0.0  \n",
       "1                     0.0                 0.0                   0.0  \n",
       "2                     0.0                 0.0                   0.0  \n",
       "3                     0.0                 0.0                   0.0  \n",
       "4                     0.0                 0.0                   0.0  \n",
       "...                   ...                 ...                   ...  \n",
       "13104                 0.0                 0.0                   0.0  \n",
       "13105                 0.0                 0.0                   0.0  \n",
       "13106                 0.0                 0.0                   0.0  \n",
       "13107                 0.0                 0.0                   0.0  \n",
       "13108                 0.0                 0.0                   0.0  \n",
       "\n",
       "[13109 rows x 50 columns]"
      ]
     },
     "execution_count": 9,
     "metadata": {},
     "output_type": "execute_result"
    }
   ],
   "source": [
    "final_df = pd.concat(target_df_list)\n",
    "final_df = final_df.reset_index(drop=True)\n",
    "final_df = final_df.fillna(0)\n",
    "final_df"
   ]
  },
  {
   "cell_type": "code",
   "execution_count": 10,
   "metadata": {},
   "outputs": [
    {
     "data": {
      "text/plain": [
       "Index(['Frame_ID', 'Local_X_meters_targ', 'Local_Y_meters_targ',\n",
       "       'Local_X_Vel_targ', 'Local_Y_Vel_targ', 'Local_X_Vel_b',\n",
       "       'Relative_Y_Vel_b', 'Relative_Targ_X_b', 'Relative_Targ_Y_b',\n",
       "       'Time_To_Collision_b', 'Local_X_Vel_f', 'Relative_Y_Vel_f',\n",
       "       'Relative_Targ_X_f', 'Relative_Targ_Y_f', 'Time_To_Collision_f',\n",
       "       'Local_X_Vel_ff', 'Relative_Y_Vel_ff', 'Relative_Targ_X_ff',\n",
       "       'Relative_Targ_Y_ff', 'Time_To_Collision_ff', 'Local_X_Vel_l',\n",
       "       'Relative_Y_Vel_l', 'Relative_Targ_X_l', 'Relative_Targ_Y_l',\n",
       "       'Time_To_Collision_l', 'Local_X_Vel_bl', 'Relative_Y_Vel_bl',\n",
       "       'Relative_Targ_X_bl', 'Relative_Targ_Y_bl', 'Time_To_Collision_bl',\n",
       "       'Local_X_Vel_fl', 'Relative_Y_Vel_fl', 'Relative_Targ_X_fl',\n",
       "       'Relative_Targ_Y_fl', 'Time_To_Collision_fl', 'Local_X_Vel_r',\n",
       "       'Relative_Y_Vel_r', 'Relative_Targ_X_r', 'Relative_Targ_Y_r',\n",
       "       'Time_To_Collision_r', 'Local_X_Vel_br', 'Relative_Y_Vel_br',\n",
       "       'Relative_Targ_X_br', 'Relative_Targ_Y_br', 'Time_To_Collision_br',\n",
       "       'Local_X_Vel_fr', 'Relative_Y_Vel_fr', 'Relative_Targ_X_fr',\n",
       "       'Relative_Targ_Y_fr', 'Time_To_Collision_fr'],\n",
       "      dtype='object')"
      ]
     },
     "execution_count": 10,
     "metadata": {},
     "output_type": "execute_result"
    }
   ],
   "source": [
    "final_df.columns"
   ]
  },
  {
   "cell_type": "code",
   "execution_count": null,
   "metadata": {},
   "outputs": [],
   "source": [
    "%%time\n",
    "final_df.loc[(final_df['Frame_ID'] > 640) & (final_df['Frame_ID'] < 710)]"
   ]
  },
  {
   "cell_type": "code",
   "execution_count": null,
   "metadata": {},
   "outputs": [],
   "source": [
    "plt.figure(figsize=(15, 10))\n",
    "# target_plot_df = all_targets_df.loc[all_targets_df['Vehicle_ID'] == 200]\n",
    "# left_plot_df = left_df.loc[left_df['Vehicle_ID'] == 204]\n",
    "line_red, = plt.plot(final_df['Local_Y_meters_targ'], final_df['Local_X_meters_targ'], color='red', label='Veículo alvo')\n",
    "line_blue, = plt.plot(final_df['Local_Y_meters_l'],final_df['Local_X_meters_l'], color='blue', label='Veículo à esquerda')\n",
    "line_yellow, = plt.plot(left_plot_df['Local_Y_meters_r'], final_df['Local_X_meters_r'], color='blue', label='Veículo à esquerda')\n",
    "plt.title('Trajetória do Alvo e dos veículos à esquerda e direita')\n",
    "plt.ylabel('Posição Lateral (m)')\n",
    "plt.xlabel('Posição Longitudinal (m)')\n",
    "#plt.xticks(target_df['Local_Y_meters'])\n",
    "plt.ylim(20, 0)\n",
    "plt.legend(handles=[line_red,line_blue, line_yellow])"
   ]
  },
  {
   "cell_type": "markdown",
   "metadata": {},
   "source": [
    "Validar dados do target_df:"
   ]
  },
  {
   "cell_type": "code",
   "execution_count": null,
   "metadata": {},
   "outputs": [],
   "source": [
    "def lateral_velocity_target_validation(final_df):\n",
    "    validation = True\n",
    "    \n",
    "    for row in final_df.itertuples():\n",
    "        if row.Index > 0:\n",
    "            local_x_distance = row.Local_X_meters_targ - final_df['Local_X_meters_targ'][row.Index-1]\n",
    "            local_x_time = (row.Global_Time_targ - final_df['Global_Time_targ'][row.Index-1])/1000\n",
    "            local_x_vel_real = row.Local_X_Vel_targ\n",
    "            local_x_vel_test = local_x_distance / local_x_time\n",
    "            \n",
    "            if local_x_vel_test != local_x_vel_real:\n",
    "                validation = False\n",
    " \n",
    "                print('Veículo', row.Vehicle_ID_targ, 'Frame', row.Frame_ID)\n",
    "                print('Resultado: ', local_x_vel_real)\n",
    "                print('Esperado: ', local_x_vel_test)\n",
    "                break\n",
    "            \n",
    "    \n",
    "    if validation == True:\n",
    "        print('Velocidades laterais corretas.')"
   ]
  },
  {
   "cell_type": "code",
   "execution_count": null,
   "metadata": {},
   "outputs": [],
   "source": [
    "lateral_velocity_target_validation(final_df)"
   ]
  },
  {
   "cell_type": "code",
   "execution_count": null,
   "metadata": {},
   "outputs": [],
   "source": [
    "def longitudinal_velocity_target_validation(final_df):\n",
    "    validation = True\n",
    "    \n",
    "    for row in final_df.itertuples():\n",
    "        if row.Index > 0:\n",
    "            local_y_distance = row.Local_Y_meters_targ - final_df['Local_Y_meters_targ'][row.Index-1]\n",
    "            local_y_time = (row.Global_Time_targ - final_df['Global_Time_targ'][row.Index-1])/1000\n",
    "            local_y_vel_real = row.Local_Y_Vel_targ\n",
    "            local_y_vel_test = local_y_distance / local_y_time\n",
    "            \n",
    "            if local_y_vel_test != local_y_vel_real:\n",
    "                validation = False\n",
    " \n",
    "                print('Veículo', row.Vehicle_ID_targ, 'Frame', row.Frame_ID)\n",
    "                print('Resultado: ', local_y_vel_real)\n",
    "                print('Esperado: ', local_y_vel_test)\n",
    "                break\n",
    "            \n",
    "    \n",
    "    if validation == True:\n",
    "        print('Velocidades longitudinais corretas.')"
   ]
  },
  {
   "cell_type": "code",
   "execution_count": null,
   "metadata": {},
   "outputs": [],
   "source": [
    "longitudinal_velocity_target_validation(final_df)"
   ]
  },
  {
   "cell_type": "code",
   "execution_count": null,
   "metadata": {},
   "outputs": [],
   "source": [
    "def lateral_velocity_surrounds_validation(final_df, surround_df, suffix):\n",
    "    local_x_name = 'Local_X_meters_'+suffix\n",
    "    local_x_vel_name = 'Local_X_Vel_'+suffix\n",
    "    global_time_name = 'Global_Time_'+suffix\n",
    "    vehicle_id_name = 'Vehicle_ID_'+suffix\n",
    "    validation = True\n",
    "    \n",
    "    for row in final_df.itertuples():\n",
    "        if final_df[local_x_vel_name][row.Index] != 0:\n",
    "            local_x_distance = surround_df['Local_X_meters'][row.Frame_ID] - final_df['Local_X_meters'][row.Frame_ID-1]\n",
    "            local_x_time = (final_df[global_time_name][row.Index] - final_df[global_time_name][row.Index-1])/1000\n",
    "            local_x_vel_real = final_df[local_x_vel_name][row.Index]\n",
    "            local_x_vel_test = local_x_distance / local_x_time\n",
    "            \n",
    "            if local_x_vel_test != local_x_vel_real:\n",
    "                validation = False\n",
    " \n",
    "                print('Veículo', final_df[vehicle_id_name][row.Index], 'Frame', row.Frame_ID)\n",
    "                print('Resultado: ', local_x_vel_real)\n",
    "                print('Esperado: ', local_x_vel_test)\n",
    "                break\n",
    "            \n",
    "    \n",
    "    if validation == True:\n",
    "        print('Velocidades laterais corretas.')"
   ]
  },
  {
   "cell_type": "code",
   "execution_count": null,
   "metadata": {},
   "outputs": [],
   "source": [
    "lateral_velocity_surrounds_validation(final_df, left_df, 'l')"
   ]
  },
  {
   "cell_type": "code",
   "execution_count": null,
   "metadata": {},
   "outputs": [],
   "source": [
    "lateral_velocity_surrounds_validation(final_df, left_df, 'l')\n",
    "lateral_velocity_surrounds_validation(final_df, 'bl')\n",
    "lateral_velocity_surrounds_validation(final_df, 'fl')\n",
    "lateral_velocity_surrounds_validation(final_df, 'r')\n",
    "lateral_velocity_surrounds_validation(final_df, 'br')\n",
    "lateral_velocity_surrounds_validation(final_df, 'bl')\n",
    "lateral_velocity_surrounds_validation(final_df, 'f')\n",
    "lateral_velocity_surrounds_validation(final_df, 'ff')\n",
    "lateral_velocity_surrounds_validation(final_df, 'b')"
   ]
  },
  {
   "cell_type": "code",
   "execution_count": null,
   "metadata": {},
   "outputs": [],
   "source": [
    "def relative_longitudinal_velocity_surrounds_validation(final_df, suffix):\n",
    "    local_y_name = 'Local_Y_meters_'+suffix\n",
    "    relative_y_vel_name = 'Relative_Y_Vel_'+suffix\n",
    "    global_time_name = 'Global_Time_'+suffix\n",
    "    vehicle_id_name = 'Vehicle_ID_'+suffix\n",
    "    validation = True\n",
    "    \n",
    "    for row in final_df.itertuples():\n",
    "        if row.Index > 0 and final_df[local_y_name][row.Index] != 0 and final_df[local_y_name][row.Index-1] != 0:\n",
    "            local_y_distance = final_df[local_y_name][row.Index] - final_df[local_y_name][row.Index-1]\n",
    "            local_y_time = (final_df[global_time_name][row.Index] - final_df[global_time_name][row.Index-1])/1000\n",
    "            local_y_vel = local_y_distance / local_y_time\n",
    "            relative_y_vel_real = final_df[relative_y_vel_name][row.Index]\n",
    "            relative_y_vel_test = row.Local_Y_Vel_targ - local_y_vel\n",
    "            \n",
    "            if relative_y_vel_test != relative_y_vel_real and not math.isnan(local_y_vel_test):\n",
    "                validation = False\n",
    " \n",
    "                print('Veículo', final_df[vehicle_id_name][row.Index], 'Frame', row.Frame_ID)\n",
    "                print('Resultado: ', relative_y_vel_real)\n",
    "                print('Esperado: ', relative_y_vel_test)\n",
    "                break\n",
    "            \n",
    "    \n",
    "    if validation == True:\n",
    "        print('Velocidades longitudinais relativas em relação ao alvo corretas.')"
   ]
  },
  {
   "cell_type": "code",
   "execution_count": null,
   "metadata": {},
   "outputs": [],
   "source": [
    "relative_longitudinal_velocity_surrounds_validation(final_df, 'l')\n",
    "relative_longitudinal_velocity_surrounds_validation(final_df, 'bl')\n",
    "relative_longitudinal_velocity_surrounds_validation(final_df, 'fl')\n",
    "relative_longitudinal_velocity_surrounds_validation(final_df, 'r')\n",
    "relative_longitudinal_velocity_surrounds_validation(final_df, 'br')\n",
    "relative_longitudinal_velocity_surrounds_validation(final_df, 'bl')\n",
    "relative_longitudinal_velocity_surrounds_validation(final_df, 'f')\n",
    "relative_longitudinal_velocity_surrounds_validation(final_df, 'ff')\n",
    "relative_longitudinal_velocity_surrounds_validation(final_df, 'b')"
   ]
  },
  {
   "cell_type": "markdown",
   "metadata": {},
   "source": [
    "Pendências para finalizar a implementação:\n",
    "* Modelar a Rede Neural para treinar e realizar a previsão das velocidades longitudinais futuras\n",
    "\n",
    "_\n",
    "_\n",
    "_\n",
    "_\n",
    "_\n",
    "_\n",
    "_\n",
    "_\n",
    "_\n",
    "_"
   ]
  },
  {
   "cell_type": "code",
   "execution_count": 11,
   "metadata": {},
   "outputs": [
    {
     "data": {
      "text/html": [
       "<div>\n",
       "<style scoped>\n",
       "    .dataframe tbody tr th:only-of-type {\n",
       "        vertical-align: middle;\n",
       "    }\n",
       "\n",
       "    .dataframe tbody tr th {\n",
       "        vertical-align: top;\n",
       "    }\n",
       "\n",
       "    .dataframe thead th {\n",
       "        text-align: right;\n",
       "    }\n",
       "</style>\n",
       "<table border=\"1\" class=\"dataframe\">\n",
       "  <thead>\n",
       "    <tr style=\"text-align: right;\">\n",
       "      <th></th>\n",
       "      <th>Frame_ID</th>\n",
       "      <th>Local_X_meters_targ</th>\n",
       "      <th>Local_Y_meters_targ</th>\n",
       "      <th>Local_X_Vel_targ</th>\n",
       "      <th>Local_Y_Vel_targ</th>\n",
       "      <th>Local_X_Vel_b</th>\n",
       "      <th>Relative_Y_Vel_b</th>\n",
       "      <th>Relative_Targ_X_b</th>\n",
       "      <th>Relative_Targ_Y_b</th>\n",
       "      <th>Time_To_Collision_b</th>\n",
       "      <th>...</th>\n",
       "      <th>Local_X_Vel_br</th>\n",
       "      <th>Relative_Y_Vel_br</th>\n",
       "      <th>Relative_Targ_X_br</th>\n",
       "      <th>Relative_Targ_Y_br</th>\n",
       "      <th>Time_To_Collision_br</th>\n",
       "      <th>Local_X_Vel_fr</th>\n",
       "      <th>Relative_Y_Vel_fr</th>\n",
       "      <th>Relative_Targ_X_fr</th>\n",
       "      <th>Relative_Targ_Y_fr</th>\n",
       "      <th>Time_To_Collision_fr</th>\n",
       "    </tr>\n",
       "  </thead>\n",
       "  <tbody>\n",
       "  </tbody>\n",
       "</table>\n",
       "<p>0 rows × 50 columns</p>\n",
       "</div>"
      ],
      "text/plain": [
       "Empty DataFrame\n",
       "Columns: [Frame_ID, Local_X_meters_targ, Local_Y_meters_targ, Local_X_Vel_targ, Local_Y_Vel_targ, Local_X_Vel_b, Relative_Y_Vel_b, Relative_Targ_X_b, Relative_Targ_Y_b, Time_To_Collision_b, Local_X_Vel_f, Relative_Y_Vel_f, Relative_Targ_X_f, Relative_Targ_Y_f, Time_To_Collision_f, Local_X_Vel_ff, Relative_Y_Vel_ff, Relative_Targ_X_ff, Relative_Targ_Y_ff, Time_To_Collision_ff, Local_X_Vel_l, Relative_Y_Vel_l, Relative_Targ_X_l, Relative_Targ_Y_l, Time_To_Collision_l, Local_X_Vel_bl, Relative_Y_Vel_bl, Relative_Targ_X_bl, Relative_Targ_Y_bl, Time_To_Collision_bl, Local_X_Vel_fl, Relative_Y_Vel_fl, Relative_Targ_X_fl, Relative_Targ_Y_fl, Time_To_Collision_fl, Local_X_Vel_r, Relative_Y_Vel_r, Relative_Targ_X_r, Relative_Targ_Y_r, Time_To_Collision_r, Local_X_Vel_br, Relative_Y_Vel_br, Relative_Targ_X_br, Relative_Targ_Y_br, Time_To_Collision_br, Local_X_Vel_fr, Relative_Y_Vel_fr, Relative_Targ_X_fr, Relative_Targ_Y_fr, Time_To_Collision_fr]\n",
       "Index: []\n",
       "\n",
       "[0 rows x 50 columns]"
      ]
     },
     "execution_count": 11,
     "metadata": {},
     "output_type": "execute_result"
    }
   ],
   "source": [
    "final_df.iloc[final_df.values==np.inf]"
   ]
  },
  {
   "cell_type": "code",
   "execution_count": 12,
   "metadata": {},
   "outputs": [
    {
     "data": {
      "text/html": [
       "<div>\n",
       "<style scoped>\n",
       "    .dataframe tbody tr th:only-of-type {\n",
       "        vertical-align: middle;\n",
       "    }\n",
       "\n",
       "    .dataframe tbody tr th {\n",
       "        vertical-align: top;\n",
       "    }\n",
       "\n",
       "    .dataframe thead th {\n",
       "        text-align: right;\n",
       "    }\n",
       "</style>\n",
       "<table border=\"1\" class=\"dataframe\">\n",
       "  <thead>\n",
       "    <tr style=\"text-align: right;\">\n",
       "      <th></th>\n",
       "      <th>Frame_ID</th>\n",
       "      <th>Local_X_meters_targ</th>\n",
       "      <th>Local_Y_meters_targ</th>\n",
       "      <th>Local_X_Vel_targ</th>\n",
       "      <th>Local_Y_Vel_targ</th>\n",
       "      <th>Local_X_Vel_b</th>\n",
       "      <th>Relative_Y_Vel_b</th>\n",
       "      <th>Relative_Targ_X_b</th>\n",
       "      <th>Relative_Targ_Y_b</th>\n",
       "      <th>Time_To_Collision_b</th>\n",
       "      <th>...</th>\n",
       "      <th>Local_X_Vel_br</th>\n",
       "      <th>Relative_Y_Vel_br</th>\n",
       "      <th>Relative_Targ_X_br</th>\n",
       "      <th>Relative_Targ_Y_br</th>\n",
       "      <th>Time_To_Collision_br</th>\n",
       "      <th>Local_X_Vel_fr</th>\n",
       "      <th>Relative_Y_Vel_fr</th>\n",
       "      <th>Relative_Targ_X_fr</th>\n",
       "      <th>Relative_Targ_Y_fr</th>\n",
       "      <th>Time_To_Collision_fr</th>\n",
       "    </tr>\n",
       "  </thead>\n",
       "  <tbody>\n",
       "  </tbody>\n",
       "</table>\n",
       "<p>0 rows × 50 columns</p>\n",
       "</div>"
      ],
      "text/plain": [
       "Empty DataFrame\n",
       "Columns: [Frame_ID, Local_X_meters_targ, Local_Y_meters_targ, Local_X_Vel_targ, Local_Y_Vel_targ, Local_X_Vel_b, Relative_Y_Vel_b, Relative_Targ_X_b, Relative_Targ_Y_b, Time_To_Collision_b, Local_X_Vel_f, Relative_Y_Vel_f, Relative_Targ_X_f, Relative_Targ_Y_f, Time_To_Collision_f, Local_X_Vel_ff, Relative_Y_Vel_ff, Relative_Targ_X_ff, Relative_Targ_Y_ff, Time_To_Collision_ff, Local_X_Vel_l, Relative_Y_Vel_l, Relative_Targ_X_l, Relative_Targ_Y_l, Time_To_Collision_l, Local_X_Vel_bl, Relative_Y_Vel_bl, Relative_Targ_X_bl, Relative_Targ_Y_bl, Time_To_Collision_bl, Local_X_Vel_fl, Relative_Y_Vel_fl, Relative_Targ_X_fl, Relative_Targ_Y_fl, Time_To_Collision_fl, Local_X_Vel_r, Relative_Y_Vel_r, Relative_Targ_X_r, Relative_Targ_Y_r, Time_To_Collision_r, Local_X_Vel_br, Relative_Y_Vel_br, Relative_Targ_X_br, Relative_Targ_Y_br, Time_To_Collision_br, Local_X_Vel_fr, Relative_Y_Vel_fr, Relative_Targ_X_fr, Relative_Targ_Y_fr, Time_To_Collision_fr]\n",
       "Index: []\n",
       "\n",
       "[0 rows x 50 columns]"
      ]
     },
     "execution_count": 12,
     "metadata": {},
     "output_type": "execute_result"
    }
   ],
   "source": [
    "final_df.iloc[final_df.values==np.nan]"
   ]
  },
  {
   "cell_type": "code",
   "execution_count": 13,
   "metadata": {
    "scrolled": true
   },
   "outputs": [
    {
     "data": {
      "text/plain": [
       "Int64Index([], dtype='int64')"
      ]
     },
     "execution_count": 13,
     "metadata": {},
     "output_type": "execute_result"
    }
   ],
   "source": [
    "inf_df = final_df.iloc[final_df.values==np.inf]\n",
    "inf_indexes = inf_df.index.unique()\n",
    "inf_indexes"
   ]
  },
  {
   "cell_type": "code",
   "execution_count": 23,
   "metadata": {},
   "outputs": [
    {
     "data": {
      "text/plain": [
       "Frame_ID                372.000000\n",
       "Local_X_meters_targ      16.354243\n",
       "Local_Y_meters_targ     104.159961\n",
       "Local_X_Vel_targ          0.219459\n",
       "Local_Y_Vel_targ          7.876128\n",
       "Local_X_Vel_b            -0.018288\n",
       "Relative_Y_Vel_b         -0.201170\n",
       "Relative_Targ_X_b        -0.381309\n",
       "Relative_Targ_Y_b       -29.732382\n",
       "Time_To_Collision_b     147.796970\n",
       "Local_X_Vel_f             0.000000\n",
       "Relative_Y_Vel_f          0.000000\n",
       "Relative_Targ_X_f         0.000000\n",
       "Relative_Targ_Y_f         0.000000\n",
       "Time_To_Collision_f       0.000000\n",
       "Local_X_Vel_ff            0.000000\n",
       "Relative_Y_Vel_ff         0.000000\n",
       "Relative_Targ_X_ff        0.000000\n",
       "Relative_Targ_Y_ff        0.000000\n",
       "Time_To_Collision_ff      0.000000\n",
       "Local_X_Vel_l             0.000000\n",
       "Relative_Y_Vel_l          0.000000\n",
       "Relative_Targ_X_l         0.000000\n",
       "Relative_Targ_Y_l         0.000000\n",
       "Time_To_Collision_l       0.000000\n",
       "Local_X_Vel_bl            0.000000\n",
       "Relative_Y_Vel_bl         0.000000\n",
       "Relative_Targ_X_bl        0.000000\n",
       "Relative_Targ_Y_bl        0.000000\n",
       "Time_To_Collision_bl      0.000000\n",
       "Local_X_Vel_fl            0.000000\n",
       "Relative_Y_Vel_fl         0.000000\n",
       "Relative_Targ_X_fl        0.000000\n",
       "Relative_Targ_Y_fl        0.000000\n",
       "Time_To_Collision_fl      0.000000\n",
       "Local_X_Vel_r             0.000000\n",
       "Relative_Y_Vel_r          0.000000\n",
       "Relative_Targ_X_r         0.000000\n",
       "Relative_Targ_Y_r         0.000000\n",
       "Time_To_Collision_r       0.000000\n",
       "Local_X_Vel_br            0.000000\n",
       "Relative_Y_Vel_br         0.000000\n",
       "Relative_Targ_X_br        0.000000\n",
       "Relative_Targ_Y_br        0.000000\n",
       "Time_To_Collision_br      0.000000\n",
       "Local_X_Vel_fr            0.000000\n",
       "Relative_Y_Vel_fr         0.000000\n",
       "Relative_Targ_X_fr        0.000000\n",
       "Relative_Targ_Y_fr        0.000000\n",
       "Time_To_Collision_fr      0.000000\n",
       "Name: 101, dtype: float64"
      ]
     },
     "execution_count": 23,
     "metadata": {},
     "output_type": "execute_result"
    }
   ],
   "source": [
    "final_df.iloc[101]"
   ]
  },
  {
   "cell_type": "code",
   "execution_count": 14,
   "metadata": {},
   "outputs": [
    {
     "data": {
      "text/plain": [
       "10487"
      ]
     },
     "execution_count": 14,
     "metadata": {},
     "output_type": "execute_result"
    }
   ],
   "source": [
    "train_df_len =  int(len(final_df) * 0.8)\n",
    "train_df_len"
   ]
  },
  {
   "cell_type": "code",
   "execution_count": 15,
   "metadata": {},
   "outputs": [
    {
     "data": {
      "text/plain": [
       "10487"
      ]
     },
     "execution_count": 15,
     "metadata": {},
     "output_type": "execute_result"
    }
   ],
   "source": [
    "train_data = final_df.iloc[:train_df_len, 1:60].values\n",
    "len(train_data)"
   ]
  },
  {
   "cell_type": "code",
   "execution_count": 26,
   "metadata": {},
   "outputs": [
    {
     "data": {
      "text/plain": [
       "2622"
      ]
     },
     "execution_count": 26,
     "metadata": {},
     "output_type": "execute_result"
    }
   ],
   "source": [
    "test_data = final_df.iloc[train_df_len:, 1:60].values\n",
    "len(test_data)"
   ]
  },
  {
   "cell_type": "code",
   "execution_count": 36,
   "metadata": {},
   "outputs": [
    {
     "data": {
      "text/plain": [
       "False"
      ]
     },
     "execution_count": 36,
     "metadata": {},
     "output_type": "execute_result"
    }
   ],
   "source": [
    "np.any(np.isnan(train_data))"
   ]
  },
  {
   "cell_type": "code",
   "execution_count": 39,
   "metadata": {},
   "outputs": [
    {
     "data": {
      "text/plain": [
       "False"
      ]
     },
     "execution_count": 39,
     "metadata": {},
     "output_type": "execute_result"
    }
   ],
   "source": [
    "np.all(np.isfinite(train_data))"
   ]
  },
  {
   "cell_type": "code",
   "execution_count": 16,
   "metadata": {},
   "outputs": [
    {
     "data": {
      "text/plain": [
       "array([[0.86894541, 0.03454765, 0.45670628, 0.27597627, 0.51743638,\n",
       "        0.49496783, 0.56942199, 1.        , 0.50001913, 0.46604414,\n",
       "        0.62686873, 0.43057801, 0.        , 0.50001913, 0.51549296,\n",
       "        0.49781138, 0.37626947, 0.        , 0.29156334, 0.44017725,\n",
       "        0.48227712, 1.        , 0.50500539, 0.941171  , 0.53191489,\n",
       "        0.45869371, 1.        , 1.        , 1.        , 0.2704    ,\n",
       "        0.42146597, 1.        , 0.        , 0.23830357, 0.57972545,\n",
       "        0.50654922, 0.        , 0.49483901, 0.92493913, 0.33142037,\n",
       "        0.51804424, 0.        , 1.        , 0.4561991 , 0.6039604 ,\n",
       "        0.56937799, 0.        , 0.        , 0.5055708 ],\n",
       "       [0.86876766, 0.0354843 , 0.45755518, 0.27597627, 0.51743638,\n",
       "        0.49496783, 0.56942199, 1.        , 0.50001913, 0.46604414,\n",
       "        0.62686873, 0.43057801, 0.        , 0.50001913, 0.51549296,\n",
       "        0.49781138, 0.37626947, 0.        , 0.29156334, 0.44017725,\n",
       "        0.48227712, 1.        , 0.50500539, 0.941171  , 0.53191489,\n",
       "        0.45869371, 1.        , 1.        , 1.        , 0.2704    ,\n",
       "        0.42146597, 1.        , 0.        , 0.23830357, 0.57972545,\n",
       "        0.50654922, 0.        , 0.49483901, 0.92493913, 0.33142037,\n",
       "        0.51804424, 0.        , 1.        , 0.4561991 , 0.6039604 ,\n",
       "        0.56937799, 0.        , 0.        , 0.5055708 ],\n",
       "       [0.87056293, 0.03639146, 0.55178268, 0.26728301, 0.51743638,\n",
       "        0.49496783, 0.56942199, 1.        , 0.50001913, 0.46604414,\n",
       "        0.62686873, 0.43057801, 0.        , 0.50001913, 0.51549296,\n",
       "        0.49781138, 0.37626947, 0.        , 0.29156334, 0.44017725,\n",
       "        0.48227712, 1.        , 0.50500539, 0.941171  , 0.53191489,\n",
       "        0.45869371, 1.        , 1.        , 1.        , 0.2704    ,\n",
       "        0.42146597, 1.        , 0.        , 0.23830357, 0.57972545,\n",
       "        0.50654922, 0.        , 0.49483901, 0.92493913, 0.33142037,\n",
       "        0.51804424, 0.        , 1.        , 0.4561991 , 0.6039604 ,\n",
       "        0.56937799, 0.        , 0.        , 0.5055708 ],\n",
       "       [0.87038518, 0.03732764, 0.45755518, 0.27583828, 0.51743638,\n",
       "        0.49496783, 0.56942199, 1.        , 0.50001913, 0.46604414,\n",
       "        0.62686873, 0.43057801, 0.        , 0.50001913, 0.51549296,\n",
       "        0.49781138, 0.37626947, 0.        , 0.29156334, 0.44017725,\n",
       "        0.48227712, 1.        , 0.50500539, 0.941171  , 0.53191489,\n",
       "        0.45869371, 1.        , 1.        , 1.        , 0.2704    ,\n",
       "        0.42146597, 1.        , 0.        , 0.23830357, 0.57972545,\n",
       "        0.50654922, 0.        , 0.49483901, 0.92493913, 0.33142037,\n",
       "        0.51804424, 0.        , 1.        , 0.4561991 , 0.6039604 ,\n",
       "        0.56937799, 0.        , 0.        , 0.5055708 ],\n",
       "       [0.87031408, 0.03826243, 0.46264856, 0.27542431, 0.51743638,\n",
       "        0.49496783, 0.56942199, 1.        , 0.50001913, 0.46604414,\n",
       "        0.62686873, 0.43057801, 0.        , 0.50001913, 0.51549296,\n",
       "        0.49781138, 0.37626947, 0.        , 0.29156334, 0.44017725,\n",
       "        0.48227712, 1.        , 0.50500539, 0.941171  , 0.53191489,\n",
       "        0.45869371, 1.        , 1.        , 1.        , 0.2704    ,\n",
       "        0.42146597, 1.        , 0.        , 0.23830357, 0.57972545,\n",
       "        0.50654922, 0.        , 0.49483901, 0.92493913, 0.33142037,\n",
       "        0.51804424, 0.        , 1.        , 0.4561991 , 0.6039604 ,\n",
       "        0.56937799, 0.        , 0.        , 0.5055708 ],\n",
       "       [0.87001191, 0.03920143, 0.4516129 , 0.27666621, 0.51743638,\n",
       "        0.49496783, 0.56942199, 1.        , 0.50001913, 0.46604414,\n",
       "        0.62686873, 0.43057801, 0.        , 0.50001913, 0.51549296,\n",
       "        0.49781138, 0.37626947, 0.        , 0.29156334, 0.44017725,\n",
       "        0.48227712, 1.        , 0.50500539, 0.941171  , 0.53191489,\n",
       "        0.45869371, 1.        , 1.        , 1.        , 0.2704    ,\n",
       "        0.42146597, 1.        , 0.        , 0.23830357, 0.57972545,\n",
       "        0.50654922, 0.        , 0.49483901, 0.92493913, 0.33142037,\n",
       "        0.51804424, 0.        , 1.        , 0.4561991 , 0.6039604 ,\n",
       "        0.56937799, 0.        , 0.        , 0.5055708 ],\n",
       "       [0.86983416, 0.04014604, 0.45755518, 0.27832206, 0.51743638,\n",
       "        0.49496783, 0.56942199, 1.        , 0.50001913, 0.46604414,\n",
       "        0.62686873, 0.43057801, 0.        , 0.50001913, 0.51549296,\n",
       "        0.49781138, 0.37626947, 0.        , 0.29156334, 0.44017725,\n",
       "        0.48227712, 1.        , 0.50500539, 0.941171  , 0.53191489,\n",
       "        0.45869371, 1.        , 1.        , 1.        , 0.2704    ,\n",
       "        0.42146597, 1.        , 0.        , 0.23830357, 0.57972545,\n",
       "        0.50654922, 0.        , 0.49483901, 0.92493913, 0.33142037,\n",
       "        0.51804424, 0.        , 1.        , 0.4561991 , 0.6039604 ,\n",
       "        0.56937799, 0.        , 0.        , 0.5055708 ],\n",
       "       [0.86963864, 0.04109254, 0.45670628, 0.27887402, 0.51743638,\n",
       "        0.49496783, 0.56942199, 1.        , 0.50001913, 0.46604414,\n",
       "        0.62686873, 0.43057801, 0.        , 0.50001913, 0.51549296,\n",
       "        0.49781138, 0.37626947, 0.        , 0.29156334, 0.44017725,\n",
       "        0.48227712, 1.        , 0.50500539, 0.941171  , 0.53191489,\n",
       "        0.45869371, 1.        , 1.        , 1.        , 0.2704    ,\n",
       "        0.42146597, 1.        , 0.        , 0.23830357, 0.57972545,\n",
       "        0.50654922, 0.        , 0.49483901, 0.92493913, 0.33142037,\n",
       "        0.51804424, 0.        , 1.        , 0.4561991 , 0.6039604 ,\n",
       "        0.56937799, 0.        , 0.        , 0.5055708 ],\n",
       "       [0.86946089, 0.04196878, 0.45755518, 0.2581758 , 0.51743638,\n",
       "        0.49496783, 0.56942199, 1.        , 0.50001913, 0.46604414,\n",
       "        0.62686873, 0.43057801, 0.        , 0.50001913, 0.51549296,\n",
       "        0.49781138, 0.37626947, 0.        , 0.29156334, 0.44017725,\n",
       "        0.48227712, 1.        , 0.50500539, 0.941171  , 0.53191489,\n",
       "        0.45869371, 1.        , 1.        , 1.        , 0.2704    ,\n",
       "        0.42146597, 1.        , 0.        , 0.23830357, 0.57972545,\n",
       "        0.50654922, 0.        , 0.49483901, 0.92493913, 0.33142037,\n",
       "        0.51804424, 0.        , 1.        , 0.4561991 , 0.6039604 ,\n",
       "        0.56937799, 0.        , 0.        , 0.5055708 ],\n",
       "       [0.86922981, 0.04277243, 0.45500849, 0.23678764, 0.51743638,\n",
       "        0.49496783, 0.56942199, 1.        , 0.50001913, 0.46604414,\n",
       "        0.62686873, 0.43057801, 0.        , 0.50001913, 0.51549296,\n",
       "        0.49781138, 0.37626947, 0.        , 0.29156334, 0.44017725,\n",
       "        0.48227712, 1.        , 0.50500539, 0.941171  , 0.53191489,\n",
       "        0.45869371, 1.        , 1.        , 1.        , 0.2704    ,\n",
       "        0.42146597, 1.        , 0.        , 0.23830357, 0.57972545,\n",
       "        0.50654922, 0.        , 0.49483901, 0.92493913, 0.33142037,\n",
       "        0.51804424, 0.        , 1.        , 0.4561991 , 0.6039604 ,\n",
       "        0.56937799, 0.        , 0.        , 0.5055708 ]])"
      ]
     },
     "execution_count": 16,
     "metadata": {},
     "output_type": "execute_result"
    }
   ],
   "source": [
    "normalizer = MinMaxScaler(feature_range=(0, 1))\n",
    "normalized_train = normalizer.fit_transform(train_data)\n",
    "normalized_train[0:10]"
   ]
  },
  {
   "cell_type": "code",
   "execution_count": 27,
   "metadata": {},
   "outputs": [
    {
     "data": {
      "text/plain": [
       "array([[0.96914387, 0.93598934, 0.42380423, 0.74266487, 0.39402174,\n",
       "        0.47658501, 0.38841251, 0.23855345, 0.43170874, 0.48515982,\n",
       "        0.40107806, 0.22946966, 0.        , 0.44819173, 0.28196347,\n",
       "        0.45226811, 0.47434275, 0.        , 0.59701686, 0.59228188,\n",
       "        0.49016046, 1.        , 0.49976848, 0.66523737, 0.53665689,\n",
       "        0.42209141, 1.        , 1.        , 0.13519515, 0.3125    ,\n",
       "        0.61831863, 1.        , 0.        , 1.        , 0.28963415,\n",
       "        0.52511898, 0.        , 0.50240273, 0.72531985, 0.54593176,\n",
       "        0.4750934 , 0.        , 1.        , 0.12135145, 0.38241309,\n",
       "        0.44129325, 0.        , 0.        , 0.75292644],\n",
       "       [0.96989318, 0.93851922, 0.47385984, 0.72099596, 0.39266304,\n",
       "        0.41354467, 0.38455002, 0.23925319, 0.43170874, 0.48515982,\n",
       "        0.40107806, 0.22946966, 0.        , 0.44819173, 0.28196347,\n",
       "        0.45226811, 0.47434275, 0.        , 0.59701686, 0.59228188,\n",
       "        0.49016046, 1.        , 0.49976848, 0.66523737, 0.53665689,\n",
       "        0.42209141, 1.        , 1.        , 0.13519515, 0.3125    ,\n",
       "        0.61831863, 1.        , 0.        , 1.        , 0.28963415,\n",
       "        0.52511898, 0.        , 0.50240273, 0.72531985, 0.54593176,\n",
       "        0.4750934 , 0.        , 1.        , 0.12135145, 0.38241309,\n",
       "        0.44129325, 0.        , 0.        , 0.75292644],\n",
       "       [0.97183369, 0.94098771, 0.54282536, 0.70349933, 0.39402174,\n",
       "        0.36959654, 0.37597528, 0.24049668, 0.43170874, 0.48515982,\n",
       "        0.40107806, 0.22946966, 0.        , 0.44819173, 0.28196347,\n",
       "        0.45226811, 0.47434275, 0.        , 0.59701686, 0.59228188,\n",
       "        0.49016046, 1.        , 0.49976848, 0.66523737, 0.53665689,\n",
       "        0.42209141, 1.        , 1.        , 0.13519515, 0.3125    ,\n",
       "        0.61831863, 1.        , 0.        , 1.        , 0.28963415,\n",
       "        0.52511898, 0.        , 0.50240273, 0.72531985, 0.54593176,\n",
       "        0.4750934 , 0.        , 1.        , 0.12135145, 0.38241309,\n",
       "        0.44129325, 0.        , 0.        , 0.75292644],\n",
       "       [0.97579158, 0.94342503, 0.6596218 , 0.69461642, 0.39266304,\n",
       "        0.34978386, 0.35921205, 0.2419853 , 0.43170874, 0.48515982,\n",
       "        0.40107806, 0.22946966, 0.        , 0.44819173, 0.28196347,\n",
       "        0.45226811, 0.47434275, 0.        , 0.59701686, 0.59228188,\n",
       "        0.49016046, 1.        , 0.49976848, 0.66523737, 0.53665689,\n",
       "        0.42209141, 1.        , 1.        , 0.13519515, 0.3125    ,\n",
       "        0.61831863, 1.        , 0.        , 1.        , 0.28963415,\n",
       "        0.52511898, 0.        , 0.50240273, 0.72531985, 0.54593176,\n",
       "        0.4750934 , 0.        , 1.        , 0.12135145, 0.38241309,\n",
       "        0.44129325, 0.        , 0.        , 0.75292644],\n",
       "       [0.97942284, 0.94585243, 0.6407119 , 0.69179004, 0.39266304,\n",
       "        0.34798271, 0.34376207, 0.2434962 , 0.43170874, 0.48515982,\n",
       "        0.40107806, 0.22946966, 0.        , 0.44819173, 0.28196347,\n",
       "        0.45226811, 0.47434275, 0.        , 0.59701686, 0.59228188,\n",
       "        0.49016046, 1.        , 0.49976848, 0.66523737, 0.53665689,\n",
       "        0.42209141, 1.        , 1.        , 0.13519515, 0.3125    ,\n",
       "        0.61831863, 1.        , 0.        , 1.        , 0.28963415,\n",
       "        0.52511898, 0.        , 0.50240273, 0.72531985, 0.54593176,\n",
       "        0.4750934 , 0.        , 1.        , 0.12135145, 0.38241309,\n",
       "        0.44129325, 0.        , 0.        , 0.75292644],\n",
       "       [0.98303489, 0.94828361, 0.63959956, 0.69286676, 0.39402174,\n",
       "        0.34726225, 0.32846659, 0.24501602, 0.43170874, 0.48515982,\n",
       "        0.40107806, 0.22946966, 0.        , 0.44819173, 0.28196347,\n",
       "        0.45226811, 0.47434275, 0.        , 0.59701686, 0.59228188,\n",
       "        0.49016046, 1.        , 0.49976848, 0.66523737, 0.53665689,\n",
       "        0.42209141, 1.        , 1.        , 0.13519515, 0.3125    ,\n",
       "        0.61831863, 1.        , 0.        , 1.        , 0.28963415,\n",
       "        0.52511898, 0.        , 0.50240273, 0.72531985, 0.54593176,\n",
       "        0.4750934 , 0.        , 1.        , 0.12135145, 0.38241309,\n",
       "        0.44129325, 0.        , 0.        , 0.75292644],\n",
       "       [0.98666615, 0.95071384, 0.6407119 , 0.69259758, 0.31521739,\n",
       "        0.30727666, 0.30861336, 0.24703056, 0.43170874, 0.48515982,\n",
       "        0.40107806, 0.22946966, 0.        , 0.44819173, 0.28196347,\n",
       "        0.45226811, 0.47434275, 0.        , 0.59701686, 0.59228188,\n",
       "        0.49016046, 1.        , 0.49976848, 0.66523737, 0.53665689,\n",
       "        0.42209141, 1.        , 1.        , 0.13519515, 0.3125    ,\n",
       "        0.61831863, 1.        , 0.        , 1.        , 0.28963415,\n",
       "        0.52511898, 0.        , 0.50240273, 0.72531985, 0.54593176,\n",
       "        0.4750934 , 0.        , 1.        , 0.12135145, 0.38241309,\n",
       "        0.44129325, 0.        , 0.        , 0.75292644],\n",
       "       [0.99029742, 0.95313841, 0.6407119 , 0.6909825 , 0.42798913,\n",
       "        0.24603746, 0.29517188, 0.24980278, 0.43170874, 0.48515982,\n",
       "        0.40107806, 0.22946966, 0.        , 0.44819173, 0.28196347,\n",
       "        0.45226811, 0.47434275, 0.        , 0.59701686, 0.59228188,\n",
       "        0.49016046, 1.        , 0.49976848, 0.66523737, 0.53665689,\n",
       "        0.42209141, 1.        , 1.        , 0.13519515, 0.3125    ,\n",
       "        0.61831863, 1.        , 0.        , 1.        , 0.28963415,\n",
       "        0.52511898, 0.        , 0.50240273, 0.72531985, 0.54593176,\n",
       "        0.4750934 , 0.        , 1.        , 0.12135145, 0.38241309,\n",
       "        0.44129325, 0.        , 0.        , 0.75292644],\n",
       "       [0.99377498, 0.95557809, 0.63181313, 0.69528937, 0.49456522,\n",
       "        0.20244957, 0.28613364, 0.25311429, 0.43170874, 0.48515982,\n",
       "        0.40107806, 0.22946966, 0.        , 0.44819173, 0.28196347,\n",
       "        0.45226811, 0.47434275, 0.        , 0.59701686, 0.59228188,\n",
       "        0.49016046, 1.        , 0.49976848, 0.66523737, 0.53665689,\n",
       "        0.42209141, 1.        , 1.        , 0.13519515, 0.3125    ,\n",
       "        0.61831863, 1.        , 0.        , 1.        , 0.28963415,\n",
       "        0.52511898, 0.        , 0.50240273, 0.72531985, 0.54593176,\n",
       "        0.4750934 , 0.        , 1.        , 0.12135145, 0.38241309,\n",
       "        0.44129325, 0.        , 0.        , 0.75292644],\n",
       "       [0.99554258, 0.95810041, 0.53281424, 0.71884253, 0.56657609,\n",
       "        0.20136888, 0.28806489, 0.25643917, 0.43170874, 0.48515982,\n",
       "        0.40107806, 0.22946966, 0.        , 0.44819173, 0.28196347,\n",
       "        0.45226811, 0.47434275, 0.        , 0.59701686, 0.59228188,\n",
       "        0.49016046, 1.        , 0.49976848, 0.66523737, 0.53665689,\n",
       "        0.42209141, 1.        , 1.        , 0.13519515, 0.3125    ,\n",
       "        0.61831863, 1.        , 0.        , 1.        , 0.28963415,\n",
       "        0.52511898, 0.        , 0.50240273, 0.72531985, 0.54593176,\n",
       "        0.4750934 , 0.        , 1.        , 0.12135145, 0.38241309,\n",
       "        0.44129325, 0.        , 0.        , 0.75292644]])"
      ]
     },
     "execution_count": 27,
     "metadata": {},
     "output_type": "execute_result"
    }
   ],
   "source": [
    "normalizer = MinMaxScaler(feature_range=(0, 1))\n",
    "normalized_test = normalizer.fit_transform(test_data)\n",
    "normalized_test[0:10]"
   ]
  },
  {
   "cell_type": "code",
   "execution_count": 17,
   "metadata": {},
   "outputs": [],
   "source": [
    "def dataset_with_look_back_for_multiple_predictors(dataset, look_back=1, initial_column=1, last_column=2, target_column=1):\n",
    "    dataX, dataY = [], []\n",
    "    \n",
    "    for i in range(len(dataset) - look_back):\n",
    "        a = dataset[i:(i + look_back), initial_column:last_column]\n",
    "        dataX.append(a)\n",
    "        dataY.append(dataset[i + look_back, target_column])\n",
    "        \n",
    "    return np.array(dataX), np.array(dataY)"
   ]
  },
  {
   "cell_type": "code",
   "execution_count": 28,
   "metadata": {},
   "outputs": [],
   "source": [
    "train_x, train_y = dataset_with_look_back_for_multiple_predictors(normalized_train, 100, 0, 49, 3)\n",
    "test_x, test_y = dataset_with_look_back_for_multiple_predictors(normalized_test, 100, 0, 49, 3)"
   ]
  },
  {
   "cell_type": "code",
   "execution_count": 19,
   "metadata": {
    "scrolled": true
   },
   "outputs": [
    {
     "data": {
      "text/plain": [
       "array([[0.86894541, 0.03454765, 0.45670628, ..., 0.        , 0.        ,\n",
       "        0.5055708 ],\n",
       "       [0.86876766, 0.0354843 , 0.45755518, ..., 0.        , 0.        ,\n",
       "        0.5055708 ],\n",
       "       [0.87056293, 0.03639146, 0.55178268, ..., 0.        , 0.        ,\n",
       "        0.5055708 ],\n",
       "       ...,\n",
       "       [0.90829912, 0.13594729, 0.52801358, ..., 0.        , 0.        ,\n",
       "        0.5055708 ],\n",
       "       [0.90957891, 0.13715745, 0.52716469, ..., 0.        , 0.        ,\n",
       "        0.5055708 ],\n",
       "       [0.91085871, 0.13836761, 0.52716469, ..., 0.        , 0.        ,\n",
       "        0.5055708 ]])"
      ]
     },
     "execution_count": 19,
     "metadata": {},
     "output_type": "execute_result"
    }
   ],
   "source": [
    "train_x[0]"
   ]
  },
  {
   "cell_type": "code",
   "execution_count": 20,
   "metadata": {},
   "outputs": [
    {
     "data": {
      "text/plain": [
       "0.3565613357251497"
      ]
     },
     "execution_count": 20,
     "metadata": {},
     "output_type": "execute_result"
    }
   ],
   "source": [
    "train_y[0]"
   ]
  },
  {
   "cell_type": "markdown",
   "metadata": {},
   "source": [
    "O formato dos dados de treino aceito pelo método LSTM() do Keras. O formato é __(batch_size, timesteps, input_dim)__, onde:\n",
    "\n",
    "* __batch_size:__ quantidade de linhas de dados de entrada\n",
    "* __timesteps:__ quantidade de intervalos temporais. Ex: 5 em 5 linhas de dados de entrada.\n",
    "* __input_dim:__ quantidade de atributos utilizados na previsão. Ex: Local_X e Local_Y = 2 atributos"
   ]
  },
  {
   "cell_type": "code",
   "execution_count": 24,
   "metadata": {},
   "outputs": [
    {
     "data": {
      "text/plain": [
       "(10387, 100, 49)"
      ]
     },
     "execution_count": 24,
     "metadata": {},
     "output_type": "execute_result"
    }
   ],
   "source": [
    "train_x.shape\n",
    "\n",
    "# (batch_size, timesteps, input_dim)"
   ]
  },
  {
   "cell_type": "code",
   "execution_count": 29,
   "metadata": {},
   "outputs": [
    {
     "data": {
      "text/plain": [
       "(2522, 100, 49)"
      ]
     },
     "execution_count": 29,
     "metadata": {},
     "output_type": "execute_result"
    }
   ],
   "source": [
    "test_x.shape"
   ]
  },
  {
   "cell_type": "markdown",
   "metadata": {},
   "source": [
    "Representação do modelo LSTM utilizado:\n",
    "\n",
    "![modelo LSTM](./lstm_representation.png)"
   ]
  },
  {
   "cell_type": "code",
   "execution_count": 25,
   "metadata": {},
   "outputs": [
    {
     "name": "stdout",
     "output_type": "stream",
     "text": [
      "Epoch 1/5\n",
      "325/325 [==============================] - 40s 122ms/step - loss: 0.1076 - mean_absolute_error: 0.2205\n",
      "Epoch 2/5\n",
      "325/325 [==============================] - 41s 126ms/step - loss: 0.0072 - mean_absolute_error: 0.0666\n",
      "Epoch 3/5\n",
      "325/325 [==============================] - 45s 139ms/step - loss: 0.0053 - mean_absolute_error: 0.0566\n",
      "Epoch 4/5\n",
      "325/325 [==============================] - 41s 125ms/step - loss: 0.0045 - mean_absolute_error: 0.0519\n",
      "Epoch 5/5\n",
      "325/325 [==============================] - 39s 120ms/step - loss: 0.0040 - mean_absolute_error: 0.0491\n",
      "Model: \"sequential\"\n",
      "_________________________________________________________________\n",
      "Layer (type)                 Output Shape              Param #   \n",
      "=================================================================\n",
      "lstm (LSTM)                  (None, 256)               313344    \n",
      "_________________________________________________________________\n",
      "dropout (Dropout)            (None, 256)               0         \n",
      "_________________________________________________________________\n",
      "dense (Dense)                (None, 256)               65792     \n",
      "_________________________________________________________________\n",
      "dropout_1 (Dropout)          (None, 256)               0         \n",
      "_________________________________________________________________\n",
      "dense_1 (Dense)              (None, 128)               32896     \n",
      "_________________________________________________________________\n",
      "dropout_2 (Dropout)          (None, 128)               0         \n",
      "_________________________________________________________________\n",
      "dense_2 (Dense)              (None, 1)                 129       \n",
      "=================================================================\n",
      "Total params: 412,161\n",
      "Trainable params: 412,161\n",
      "Non-trainable params: 0\n",
      "_________________________________________________________________\n"
     ]
    }
   ],
   "source": [
    "model = Sequential()\n",
    "\n",
    "# camada 1     \n",
    "# units é a quantidade de células de memória\n",
    "# return_sequences se for True retorna os valores de saída para a próxima camada\n",
    "# input_shape recebe (timesteps, input_dim)\n",
    "model.add(LSTM(units = 256, input_shape=(train_x.shape[1], train_x.shape[2])))\n",
    "# O dropout é usado para evitar overfitting\n",
    "model.add(Dropout(0.3))\n",
    "\n",
    "# camada 2\n",
    "model.add(Dense(units = 256, activation='tanh'))\n",
    "model.add(Dropout(0.3))\n",
    "\n",
    "# camada 3\n",
    "model.add(Dense(units = 128, activation='tanh'))\n",
    "model.add(Dropout(0.3))\n",
    "\n",
    "# camada final com units de 1 para uma única saída\n",
    "# activation define a função de ativação para o cálculo da última saída\n",
    "model.add(Dense(units = 1, activation='tanh'))\n",
    "\n",
    "# optimizer é a função utilizada para o cálculo do gradiente\n",
    "# loss é o erro utilizado para o ajuste dos pesos\n",
    "model.compile(optimizer=\"rmsprop\", loss=\"mean_squared_error\", \n",
    "              metrics=[\"mean_absolute_error\"] )\n",
    "\n",
    "# método para parada de treinamento antes do número de epochs definido\n",
    "# monitor indica a função a ser verificada a melhora\n",
    "# min_delta indica o valor mínimo de melhora aceito para não parar o treinamento\n",
    "# patience indica o número de iterações do treino necessários com min_delta abaixo do esperado\n",
    "# es = EarlyStopping(monitor='loss', min_delta=0.01, patience=10, verbose=1)\n",
    "\n",
    "# epochs é a quantidade de vezes que ocorrerá o ajuste dos pesos\n",
    "# batch size é o número de amostras por atualização de gradiente\n",
    "model.fit(train_x, train_y, epochs=5, batch_size = 32)\n",
    "\n",
    "model.summary()"
   ]
  },
  {
   "cell_type": "code",
   "execution_count": 32,
   "metadata": {},
   "outputs": [
    {
     "data": {
      "text/plain": [
       "array([[0.74266487],\n",
       "       [0.72099596],\n",
       "       [0.70349933],\n",
       "       ...,\n",
       "       [0.71507402],\n",
       "       [0.67294751],\n",
       "       [0.67294751]])"
      ]
     },
     "execution_count": 32,
     "metadata": {},
     "output_type": "execute_result"
    }
   ],
   "source": [
    "normalizer_predict = MinMaxScaler(feature_range=(0, 1))\n",
    "normalizer_predict.fit_transform(test_data[:,3:4])"
   ]
  },
  {
   "cell_type": "code",
   "execution_count": null,
   "metadata": {},
   "outputs": [],
   "source": [
    "predict_train = model.predict(train_x)\n",
    "#predict_train = predict_train.reshape(-1, 1)\n",
    "predict_train"
   ]
  },
  {
   "cell_type": "code",
   "execution_count": 30,
   "metadata": {},
   "outputs": [
    {
     "data": {
      "text/plain": [
       "array([[-0.04016816],\n",
       "       [-0.04026828],\n",
       "       [-0.04019912],\n",
       "       ...,\n",
       "       [ 0.7332425 ],\n",
       "       [ 0.71250385],\n",
       "       [ 0.69527566]], dtype=float32)"
      ]
     },
     "execution_count": 30,
     "metadata": {},
     "output_type": "execute_result"
    }
   ],
   "source": [
    "test_predict = model.predict(test_x)\n",
    "test_predict"
   ]
  },
  {
   "cell_type": "code",
   "execution_count": null,
   "metadata": {},
   "outputs": [],
   "source": [
    "predict_train = normalizer_predict.inverse_transform(predict_train)\n",
    "train_y = normalizer_predict.inverse_transform(train_y.reshape(-1, 1))\n",
    "\n",
    "predict_train"
   ]
  },
  {
   "cell_type": "code",
   "execution_count": 33,
   "metadata": {},
   "outputs": [
    {
     "data": {
      "text/plain": [
       "array([[-0.90968496],\n",
       "       [-0.9119524 ],\n",
       "       [-0.9103861 ],\n",
       "       ...,\n",
       "       [16.60568   ],\n",
       "       [16.136015  ],\n",
       "       [15.74585   ]], dtype=float32)"
      ]
     },
     "execution_count": 33,
     "metadata": {},
     "output_type": "execute_result"
    }
   ],
   "source": [
    "test_predict = normalizer_predict.inverse_transform(test_predict)\n",
    "test_y = normalizer_predict.inverse_transform(test_y.reshape(-1, 1))\n",
    "\n",
    "test_predict"
   ]
  },
  {
   "cell_type": "code",
   "execution_count": 34,
   "metadata": {},
   "outputs": [
    {
     "data": {
      "text/plain": [
       "array([[ 0.21641063],\n",
       "       [ 0.21945867],\n",
       "       [ 0.21641063],\n",
       "       ...,\n",
       "       [16.19422092],\n",
       "       [15.24018532],\n",
       "       [15.24018532]])"
      ]
     },
     "execution_count": 34,
     "metadata": {},
     "output_type": "execute_result"
    }
   ],
   "source": [
    "test_y"
   ]
  },
  {
   "cell_type": "code",
   "execution_count": 39,
   "metadata": {},
   "outputs": [
    {
     "data": {
      "text/plain": [
       "<matplotlib.legend.Legend at 0x7f44e4aa7910>"
      ]
     },
     "execution_count": 39,
     "metadata": {},
     "output_type": "execute_result"
    },
    {
     "data": {
      "image/png": "[encoded data removed]",
      "text/plain": [
       "<Figure size 1080x720 with 1 Axes>"
      ]
     },
     "metadata": {
      "needs_background": "light"
     },
     "output_type": "display_data"
    }
   ],
   "source": [
    "plt.figure(figsize=(15, 10))\n",
    "line_red, = plt.plot(test_y, color='red', label='Velocidade Longitudinal Real')\n",
    "line_blue, = plt.plot(test_predict, color='blue', label='Velocidade Longitudinal Prevista')\n",
    "plt.title('Predição de Velocidade Longitudinal')\n",
    "plt.xlabel('Index')\n",
    "plt.ylabel('Velocidade Longitudinal (m/s)')\n",
    "plt.legend(handles=[line_red, line_blue])"
   ]
  },
  {
   "cell_type": "code",
   "execution_count": null,
   "metadata": {},
   "outputs": [],
   "source": [
    "%%time\n",
    "complete_df = pd.read_csv('us-101-vehicle-trajectory-data/vehicle-trajectory-data/0805am-0820am/trajectories-0805am-0820am.csv')"
   ]
  },
  {
   "cell_type": "code",
   "execution_count": null,
   "metadata": {},
   "outputs": [],
   "source": [
    "complete_df.head()"
   ]
  },
  {
   "cell_type": "code",
   "execution_count": null,
   "metadata": {},
   "outputs": [],
   "source": [
    "complete_df.tail()"
   ]
  }
 ],
 "metadata": {
  "kernelspec": {
   "display_name": "Python 3",
   "language": "python",
   "name": "python3"
  },
  "language_info": {
   "codemirror_mode": {
    "name": "ipython",
    "version": 3
   },
   "file_extension": ".py",
   "mimetype": "text/x-python",
   "name": "python",
   "nbconvert_exporter": "python",
   "pygments_lexer": "ipython3",
   "version": "3.8.5"
  }
 },
 "nbformat": 4,
 "nbformat_minor": 4
}
